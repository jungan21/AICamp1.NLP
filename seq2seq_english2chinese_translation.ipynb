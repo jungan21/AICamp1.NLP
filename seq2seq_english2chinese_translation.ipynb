{
 "cells": [
  {
   "cell_type": "markdown",
   "metadata": {},
   "source": [
    "# DATA DOWNLOAD\n",
    "To start this project, you need an addition data file.\n",
    "\n",
    "First you should download data from:\n",
    "https://pan.baidu.com/s/1KFui9zZKjRqzFkCJH5nenw\n",
    "\n",
    "https://www.kaggle.com/seesea0203/segmented-train-seg-by-word\n",
    "    \n",
    "Then unzip it,create a data dir, and put it in data directory\n",
    "\n",
    "## After you do all that , the following file should be found:\n",
    "\n",
    "```python\n",
    "'data/segmented_train_seg_by_word.txt' \n",
    "```\n",
    "\n",
    "And that means you are good to go."
   ]
  },
  {
   "cell_type": "code",
   "execution_count": 11,
   "metadata": {},
   "outputs": [
    {
     "name": "stdout",
     "output_type": "stream",
     "text": [
      " 20000000 data/segmented_train_seg_by_word.txt\r\n"
     ]
    }
   ],
   "source": [
    "# segmented_train_seg_by_word.txt 内容sample\n",
    "# couple of what ? who ' s buddy ?\n",
    "#一对 什么 ？ 哥们儿 是 谁 ？ \n",
    "\n",
    "! wc -l data/segmented_train_seg_by_word.txt"
   ]
  },
  {
   "cell_type": "markdown",
   "metadata": {},
   "source": [
    "# DATA PROCESS"
   ]
  },
  {
   "cell_type": "code",
   "execution_count": 12,
   "metadata": {},
   "outputs": [],
   "source": [
    "from utils import ProgressBar\n",
    "import numpy as np"
   ]
  },
  {
   "cell_type": "code",
   "execution_count": 13,
   "metadata": {},
   "outputs": [
    {
     "name": "stdout",
     "output_type": "stream",
     "text": [
      "['一', '对', '丹', '顶', '鹤', '正', '监', '视', '着', '它', '们', '的', '筑', '巢', '领', '地']\n"
     ]
    }
   ],
   "source": [
    "str = \"一对 丹顶鹤 正 监视 着 它们 的 筑巢 领地\"\n",
    "test = [i for i in str.strip(\"\\n\").replace(' ','')]\n",
    "print(test)"
   ]
  },
  {
   "cell_type": "code",
   "execution_count": 14,
   "metadata": {},
   "outputs": [
    {
     "name": "stdout",
     "output_type": "stream",
     "text": [
      " 100.00 % [==================================================>] 10000000/10000000 \t used:50s eta:0 s"
     ]
    }
   ],
   "source": [
    "enline = None\n",
    "chline = None\n",
    "\n",
    "sentlength = 5\n",
    "\n",
    "enlines = []\n",
    "chlines = []\n",
    "pb = ProgressBar(worksum=10000000)\n",
    "pb.startjob()\n",
    "num = 0\n",
    "# 中文， 英文 分类， 只留下长度 <=5的句子\n",
    "with open('data/segmented_train_seg_by_word.txt') as fhdl:\n",
    "    for line in fhdl:\n",
    "        num += 1\n",
    "        if num % 2 == 1:\n",
    "            enline = line\n",
    "            continue\n",
    "        else:\n",
    "            chline = line\n",
    "        \n",
    "        enlinesp = [i.lower() for i in enline.strip(\"\\n\").split()]\n",
    "        \n",
    "        \"\"\"\n",
    "            text_classify_basic里, chlinesp是split成每个单词. 而这里是split成每个字\n",
    "            \"一对 丹顶鹤 正 监视 着 它们 的 筑巢 领地\" -> \n",
    "            ['一', '对', '丹', '顶', '鹤', '正', '监', '视', '着', '它', '们', '的', '筑', '巢', '领', '地']\n",
    "        \"\"\"\n",
    "        chlinesp = [i for i in chline.strip(\"\\n\").replace(' ','')]\n",
    "        if len(enlinesp) <= sentlength and len(chlinesp) <= sentlength:\n",
    "            enlines.append(enlinesp)\n",
    "            chlines.append(chlinesp)\n",
    "        if (num // 2) % 1000 == 0:\n",
    "            pb.complete(1000)\n",
    "        "
   ]
  },
  {
   "cell_type": "code",
   "execution_count": 15,
   "metadata": {},
   "outputs": [
    {
     "data": {
      "text/plain": [
       "[['deuces', 'the', 'winner', '.'],\n",
       " ['a', 'couple', 'of', 'what', '?'],\n",
       " ['a', 'pair', 'of', 'wives', '?'],\n",
       " ['husband', 'and', 'wife', '.'],\n",
       " ['couple', '.']]"
      ]
     },
     "execution_count": 15,
     "metadata": {},
     "output_type": "execute_result"
    }
   ],
   "source": [
    "enlines[:5]"
   ]
  },
  {
   "cell_type": "code",
   "execution_count": 16,
   "metadata": {},
   "outputs": [
    {
     "data": {
      "text/plain": [
       "[['一', '对', '二', '胜', '。'],\n",
       " ['一', '对', '什', '么', '？'],\n",
       " ['一', '对', '太', '太', '？'],\n",
       " ['一', '对', '夫', '妇', '。'],\n",
       " ['一', '对', '夫', '妻', '。']]"
      ]
     },
     "execution_count": 16,
     "metadata": {},
     "output_type": "execute_result"
    }
   ],
   "source": [
    "chlines[:5] #中文这里 用每个字 而不是单词"
   ]
  },
  {
   "cell_type": "code",
   "execution_count": 17,
   "metadata": {},
   "outputs": [
    {
     "data": {
      "text/plain": [
       "(103912, 103912)"
      ]
     },
     "execution_count": 17,
     "metadata": {},
     "output_type": "execute_result"
    }
   ],
   "source": [
    "len(chlines),len(enlines)"
   ]
  },
  {
   "cell_type": "code",
   "execution_count": 18,
   "metadata": {},
   "outputs": [],
   "source": [
    "# text_classify_basic.ipynb 里，只用了一个叫 words[]的数组， 这里中英文单词分开存储\n",
    "enwords = [] \n",
    "chwords = []\n",
    "for sent in enlines:\n",
    "    for enword in sent:\n",
    "        enwords.append(enword)\n",
    "        \n",
    "for sent in chlines:\n",
    "    for chword in sent:\n",
    "        chwords.append(chword)\n",
    "    "
   ]
  },
  {
   "cell_type": "code",
   "execution_count": 19,
   "metadata": {},
   "outputs": [],
   "source": [
    "from collections import Counter"
   ]
  },
  {
   "cell_type": "code",
   "execution_count": 20,
   "metadata": {},
   "outputs": [
    {
     "data": {
      "text/plain": [
       "[('.', 49461),\n",
       " ('?', 14511),\n",
       " ('the', 10472),\n",
       " ('i', 10013),\n",
       " (',', 9489),\n",
       " ('!', 8807),\n",
       " ('you', 7493),\n",
       " ('a', 6860),\n",
       " (\"'\", 5555),\n",
       " ('it', 5524)]"
      ]
     },
     "execution_count": 20,
     "metadata": {},
     "output_type": "execute_result"
    }
   ],
   "source": [
    "Counter(enwords).most_common(10)"
   ]
  },
  {
   "cell_type": "code",
   "execution_count": 21,
   "metadata": {},
   "outputs": [
    {
     "data": {
      "text/plain": [
       "[('。', 44900),\n",
       " ('我', 15087),\n",
       " ('？', 14454),\n",
       " ('你', 9087),\n",
       " ('！', 8915),\n",
       " ('了', 8663),\n",
       " ('的', 8053),\n",
       " ('，', 7291),\n",
       " ('一', 6091),\n",
       " ('是', 5946)]"
      ]
     },
     "execution_count": 21,
     "metadata": {},
     "output_type": "execute_result"
    }
   ],
   "source": [
    "Counter(chwords).most_common(10)"
   ]
  },
  {
   "cell_type": "code",
   "execution_count": 22,
   "metadata": {},
   "outputs": [
    {
     "data": {
      "text/plain": [
       "(405184, 496885)"
      ]
     },
     "execution_count": 22,
     "metadata": {},
     "output_type": "execute_result"
    }
   ],
   "source": [
    "len(enwords),len(chwords)"
   ]
  },
  {
   "cell_type": "code",
   "execution_count": 23,
   "metadata": {},
   "outputs": [
    {
     "data": {
      "text/plain": [
       "(21739, 4054)"
      ]
     },
     "execution_count": 23,
     "metadata": {},
     "output_type": "execute_result"
    }
   ],
   "source": [
    "len(set(enwords)),len(set(chwords)) # use SET to remove duplicated words"
   ]
  },
  {
   "cell_type": "code",
   "execution_count": 24,
   "metadata": {},
   "outputs": [],
   "source": [
    "# text_classify_basic.ipynb 里，word2ind, ind2word两个数组.这里中英文分开处理\n",
    "ch2ind = {}\n",
    "ind2ch = {}\n",
    "en2ind = {}\n",
    "ind2en = {}"
   ]
  },
  {
   "cell_type": "code",
   "execution_count": 25,
   "metadata": {},
   "outputs": [],
   "source": [
    "specialchars = ['<eos>','<start>','<end>','<unk>'] # text_classify_basic.ipynb 里 只有 '<pad>','<unk>'"
   ]
  },
  {
   "cell_type": "code",
   "execution_count": 26,
   "metadata": {},
   "outputs": [],
   "source": [
    "def addchar(what2ind,ind2what,char):\n",
    "    if char in what2ind:\n",
    "        return \n",
    "    ind2what[len(what2ind)] = char\n",
    "    what2ind[char] = len(what2ind)"
   ]
  },
  {
   "cell_type": "code",
   "execution_count": 27,
   "metadata": {},
   "outputs": [
    {
     "name": "stdout",
     "output_type": "stream",
     "text": [
      "中文: {'<eos>': 0, '<start>': 1, '<end>': 2, '<unk>': 3} {0: '<eos>', 1: '<start>', 2: '<end>', 3: '<unk>'}\n",
      "英文: {'<eos>': 0, '<start>': 1, '<end>': 2, '<unk>': 3} {0: '<eos>', 1: '<start>', 2: '<end>', 3: '<unk>'}\n"
     ]
    }
   ],
   "source": [
    "# 把special char 往中英文数组里各加入一份\n",
    "for one in specialchars:\n",
    "    addchar(ch2ind,ind2ch,one)\n",
    "    addchar(en2ind,ind2en,one)\n",
    "print(\"中文:\", ch2ind, ind2ch)\n",
    "print(\"英文:\", en2ind, ind2en)"
   ]
  },
  {
   "cell_type": "code",
   "execution_count": 28,
   "metadata": {},
   "outputs": [],
   "source": [
    "# 只对 enwords 和 chwords 出现频率最高的前10000单词 构建 <word, index> <index, word>映射 词典\n",
    "for word,_ in Counter(enwords).most_common(10000):\n",
    "    addchar(en2ind,ind2en,word)\n",
    "    \n",
    "for word,_ in Counter(chwords).most_common(10000):\n",
    "    addchar(ch2ind,ind2ch,word)"
   ]
  },
  {
   "cell_type": "code",
   "execution_count": 29,
   "metadata": {},
   "outputs": [
    {
     "data": {
      "text/plain": [
       "(10004, 4058)"
      ]
     },
     "execution_count": 29,
     "metadata": {},
     "output_type": "execute_result"
    }
   ],
   "source": [
    "len(en2ind),len(ch2ind)"
   ]
  },
  {
   "cell_type": "markdown",
   "metadata": {},
   "source": [
    "### Prepare 左半边encoder & 右半边decoder 网络的输入 输出"
   ]
  },
  {
   "cell_type": "code",
   "execution_count": 30,
   "metadata": {},
   "outputs": [],
   "source": [
    "\"\"\"\n",
    "    text_classify_basic.ipynb \n",
    "        1. 完成中英文句子分类任务\n",
    "        2. 只有 dat_x_in = []， dat_y = []两个数组， \n",
    "    seq2seq_basic.ipynb \n",
    "        1. 完成将输入英文 翻译 成 中文的任务\n",
    "        2. 这里dat_y 分为 dat_y_in，dat_y_out\n",
    "    \n",
    "\"\"\"\n",
    "\n",
    "dat_x_in = []\n",
    "dat_x_len = []\n",
    "\n",
    "# dat_y_in:  对应PPT中 RNN NMT Training 结构图中右半边decoder图中, 上面的 “target y1, target y2, <end> ”\n",
    "# dat_y_out: 对应PPT中 RNN NMT Training 结构图中右半边decoder图中, 下面bottom部分的“<start>,  target y1, target y2”\n",
    "dat_y_in = []\n",
    "dat_y_out = []\n",
    "\n",
    "# 因为 dat_y_in[]， dat_y_out[] 里每个句子长度一样(其实是一样的句子，只是dat_y_in句子前面加了个<start>, dat_y_out句子结尾加了个<end>)\n",
    "# 所以一样长，这里只用一个统一的数组dat_y_len 来track 长度就可以\n",
    "dat_y_len = [] \n",
    "\n",
    "\n",
    "# 结合PPT, 对应 RNN NMT structure 左半边图，相当于 source langage 英文\n",
    "for ensent in enlines:\n",
    "    indsent = [en2ind.get(i,en2ind['<unk>']) for i in ensent] # 英语句子里每个单词 --> index, 然后放入indsent. indsent里是用数字index表示的句子\n",
    "    indsent.append(en2ind['<eos>']) #以句子为单位，将当前句子里每个词装换成index 结果加上eos特殊符号的index(i.e. 0)\n",
    "    \n",
    "    dat_x_in.append(indsent) #放入dat_x_in数组. 数组dat_x_in[] 里每一个元素大概这样： [3, 6, 2730, 4, 0]\n",
    "    dat_x_len.append(len(indsent)) # 每个英文句子的实际长度（包含最后一个字符<eos>）存下来\n",
    "    \n",
    "# 结合PPT, 对应 RNN NMT structure 右半边图, 相当于 target langage (i.e. 输入英文被翻译为中文) \n",
    "for chsent in chlines:\n",
    "    indsent = [ch2ind.get(i,ch2ind['<unk>']) for i in chsent]\n",
    "    \n",
    "    #相比较:dat_x_in数组里，每个用index表示的英文句子结尾只加了一个eos特殊符号。\n",
    "    dat_y_in.append([ch2ind['<start>']] + indsent) #dat_y_in里每个元素： [1, 12, 63, 582, 901, 4] 1 就是start的index\n",
    "    dat_y_out.append(indsent + [ch2ind['<end>']]) # dat_y_out里每个元素： [12, 63, 582, 901, 4, 2] 2 就是end的index\n",
    "    \n",
    "    dat_y_len.append(len(indsent) + 1) # ??? 为什么这里中文句子长度加1？ 中文句子长度加1是考虑到了末尾符号"
   ]
  },
  {
   "cell_type": "code",
   "execution_count": 31,
   "metadata": {},
   "outputs": [
    {
     "data": {
      "text/plain": [
       "['couple', '.', '<eos>']"
      ]
     },
     "execution_count": 31,
     "metadata": {},
     "output_type": "execute_result"
    }
   ],
   "source": [
    "[ind2en[i] for i in dat_x_in[4]]"
   ]
  },
  {
   "cell_type": "code",
   "execution_count": 32,
   "metadata": {},
   "outputs": [
    {
     "data": {
      "text/plain": [
       "['<start>', '一', '对', '夫', '妻', '。']"
      ]
     },
     "execution_count": 32,
     "metadata": {},
     "output_type": "execute_result"
    }
   ],
   "source": [
    "[ind2ch[i] for i in dat_y_in[4]]"
   ]
  },
  {
   "cell_type": "code",
   "execution_count": 33,
   "metadata": {},
   "outputs": [
    {
     "data": {
      "text/plain": [
       "['一', '对', '夫', '妻', '。', '<end>']"
      ]
     },
     "execution_count": 33,
     "metadata": {},
     "output_type": "execute_result"
    }
   ],
   "source": [
    "[ind2ch[i] for i in dat_y_out[4]]"
   ]
  },
  {
   "cell_type": "code",
   "execution_count": 34,
   "metadata": {},
   "outputs": [
    {
     "data": {
      "text/plain": [
       "([260, 4, 0], [1, 12, 63, 434, 1073, 4], [12, 63, 434, 1073, 4, 2])"
      ]
     },
     "execution_count": 34,
     "metadata": {},
     "output_type": "execute_result"
    }
   ],
   "source": [
    "dat_x_in[4], dat_y_in[4], dat_y_out[4]"
   ]
  },
  {
   "cell_type": "code",
   "execution_count": 35,
   "metadata": {},
   "outputs": [
    {
     "data": {
      "text/plain": [
       "(3, 6)"
      ]
     },
     "execution_count": 35,
     "metadata": {},
     "output_type": "execute_result"
    }
   ],
   "source": [
    "dat_x_len[4],dat_y_len[4]"
   ]
  },
  {
   "cell_type": "code",
   "execution_count": 36,
   "metadata": {},
   "outputs": [
    {
     "data": {
      "text/plain": [
       "(103912, 103912, 103912, 103912, 103912)"
      ]
     },
     "execution_count": 36,
     "metadata": {},
     "output_type": "execute_result"
    }
   ],
   "source": [
    "len(dat_x_in),\\\n",
    "len(dat_y_in),\\\n",
    "len(dat_y_out),\\\n",
    "len(dat_x_len),\\\n",
    "len(dat_y_len)"
   ]
  },
  {
   "cell_type": "markdown",
   "metadata": {},
   "source": [
    "# MODEL PART\n",
    "![title](img/seq2seq_train.png)"
   ]
  },
  {
   "cell_type": "code",
   "execution_count": 37,
   "metadata": {},
   "outputs": [],
   "source": [
    "from tensorflow.python.layers import core as layers_core"
   ]
  },
  {
   "cell_type": "code",
   "execution_count": 38,
   "metadata": {},
   "outputs": [],
   "source": [
    "import tensorflow as tf\n",
    "# import tflearn\n",
    "tf.reset_default_graph()\n",
    "config = tf.ConfigProto(log_device_placement=True,allow_soft_placement = True)\n",
    "config.gpu_options.allow_growth = True\n",
    "#config.gpu_options.per_process_gpu_memory_fraction = 0.4\n",
    "session = tf.Session(config=config)\n"
   ]
  },
  {
   "cell_type": "code",
   "execution_count": 39,
   "metadata": {},
   "outputs": [],
   "source": [
    "embedding_size = 512 # 单词的embedding表的列数. 相当于把每个单词映射为512维的向量 i.e.（1 * 512）\n",
    "\n",
    "\"\"\"\n",
    "    num_units = 512 Hyper parameter. 是隐变量c的维度. 也就是每个RNN cell 的输出维度\n",
    "    Note: \n",
    "        RNN NMT 结构中，左边endocer公用一个RNN(虽然结构图里画了3个box,其实就是一个共享权重的RNN)，同理右半边decoder网络也是。\n",
    "        但是左边 和右边 的两个RNN 并不共享网络权重参数\n",
    "\n",
    "    在text_classfify任务的的时候，老师课上解释： RNN->S1->RNN->S2...这里的512就是就是S1的大小，也就是hidden unit memory 的大小\n",
    "    512个float -> 512 * 32bit (i.e. 512 * 4字节)\n",
    "   \n",
    "    在LSTM里：相当于Ct(长期记忆)和Ht（短期记忆）都是num_unit个浮点数， 也就是memory size. 在标准的RNN里就是是S1, S2 等这些状态的memeory size. \n",
    "\n",
    "\"\"\"\n",
    "num_units = 512 # 助教回答：是隐变量c的维度。 然后embedding size是word经过embedding后的维度。所以矩阵W的维度应该是1024*512\n",
    "batch_size = 128\n",
    "layer_number = 2 #这里代码用了1层的双向RNN，所以layer是2. 对应PPT Week12.Session1.RNN-NMT_v1.1.pdf第20页双向RNN图比较好理解\n",
    "max_grad = 1.0 # 梯度裁剪 PPT里有提到， 对应裁剪阀值c\n",
    "dropout = 0.2\n",
    "src_vocab_size = len(en2ind) # 英语 -> 中文，这里是输入英语词汇表的大小\n",
    "target_vocat_size = len(ch2ind) # 英语 -> 中文，这里是输出中文词汇表的大小\n",
    "\n",
    "\n",
    "seq_max_len = sentlength + 1 # sentlength 上面定义过了是5  ???为什么加1 表示什么意思\n",
    "\n",
    "\"\"\"\n",
    "    老师课上提到是解码的时候最长可以输出多长 (对应课件PPT Week12.Session1.RNN-NMT_v1.1.pdf 7页 seq2seq 机器翻译训练)\n",
    "    右上角的<end> end 是一种结束解码的方式. 也可以用maximum_iterations, \n",
    "    代码里已经用了<end>，这里这个变量可以防止句子过长,也就是解码序列超过这个值，后面的就不处理了\n",
    "\"\"\" \n",
    "maximum_iterations = 10"
   ]
  },
  {
   "cell_type": "code",
   "execution_count": 40,
   "metadata": {},
   "outputs": [
    {
     "name": "stdout",
     "output_type": "stream",
     "text": [
      "WARNING:tensorflow:From <ipython-input-40-1d9891215f45>:36: BasicLSTMCell.__init__ (from tensorflow.python.ops.rnn_cell_impl) is deprecated and will be removed in a future version.\n",
      "Instructions for updating:\n",
      "This class is deprecated, please use tf.nn.rnn_cell.LSTMCell, which supports all the feature this cell currently has. Please replace the existing code with tf.nn.rnn_cell.LSTMCell(name='basic_lstm_cell').\n",
      "encoder_outputs Tensor(\"rnn/transpose_1:0\", shape=(?, ?, 512), dtype=float32, device=/device:GPU:1)\n",
      "encoder_state LSTMStateTuple(c=<tf.Tensor 'rnn/while/Exit_3:0' shape=(?, 512) dtype=float32>, h=<tf.Tensor 'rnn/while/Exit_4:0' shape=(?, 512) dtype=float32>)\n"
     ]
    }
   ],
   "source": [
    "\n",
    "tf.reset_default_graph()\n",
    "config = tf.ConfigProto(log_device_placement=True,allow_soft_placement = True)\n",
    "config.gpu_options.allow_growth = True\n",
    "#config.gpu_options.per_process_gpu_memory_fraction = 0.4\n",
    "session = tf.Session(config=config)\n",
    "\n",
    "with tf.device('/gpu:1'):\n",
    "    # all of the LSTM's parameters with the uniform distribution between -0.08 and 0.08\n",
    "    initializer = tf.random_uniform_initializer(-0.08, 0.08)\n",
    "    tf.get_variable_scope().set_initializer(initializer)\n",
    "    \n",
    "    x = tf.placeholder(\"int32\", [None, None]) # batch_size，  time_step (每个词) batch_size 就是多少句话，time_step就是每句话里多少个单词\n",
    "    y = tf.placeholder(\"int32\", [None, None]) # dat_y_out 二维的  右半边结构图 上面的target y1, target y2\n",
    "    y_in = tf.placeholder(\"int32\",[None,None]) # dat_y_in 二维的 右半边结构图 下面的target y1, target y2\n",
    "    \n",
    "    x_len = tf.placeholder(\"int32\",[None])\n",
    "    y_len = tf.placeholder(\"int32\",[None])\n",
    "    learning_rate = tf.placeholder(tf.float32, shape=[])\n",
    "    \n",
    "    # buid embedding table\n",
    "    #text_classify_basic.ipynb仅定义了embedding_encoder， 这里翻译任务 还定义了 embedding_decoder\n",
    "    embedding_encoder = tf.get_variable(\"embedding_encoder\", [src_vocab_size, embedding_size],dtype=tf.float32)\n",
    "    embedding_decoder = tf.get_variable(\"embedding_decoder\", [target_vocat_size, embedding_size],dtype=tf.float32)\n",
    "\n",
    "    \n",
    "    # actualy do the embedding by lookup above built embedding tables\n",
    "    encoder_emb_inp = tf.nn.embedding_lookup(embedding_encoder, x) #对应RNN NMT strcuture 图里的左半边：把输入待翻译的句子X映射成embedding后的编码向量\n",
    "     # y_in 对应PPT RNN NMT train结构图右半边图的最下方的输入 <start>, target y1, target y2，相当于实际的我想要的预测结果label. 只有在training 的时候有输入. predict的阶段没有该输入\n",
    "    decoder_emb_inp = tf.nn.embedding_lookup(embedding_decoder, y_in) # 对应RNN NMT strcuture 图里的右半边：把y_in映射成embedding后的编码向量\n",
    "    \n",
    "    # ??? encoder ...这个项目里没有用到，PPT 附录里GNMT 论文里有用到.\n",
    "    # 这里代码用了1层的双向RNN，所以layer是2. 对应PPT Week12.Session1.RNN-NMT_v1.1.pdf第20页双向RNN图比较好理解\n",
    "    num_bi_layers = int(layer_number / 2)\n",
    "    \n",
    "    encoder_cell = tf.nn.rnn_cell.BasicLSTMCell(num_units)   # Build encoder RNN cell\n",
    "\n",
    "    # Run Dynamic RNN NMT结构中的左半边的RNN\n",
    "    #   encoder_outputs: [max_time, batch_size, num_units]\n",
    "    #   encoder_state: [batch_size, num_units] 左半边encoding 图最后的输出， 该输出要输入到右半边的decoder图中\n",
    "    # batch_size就是每个句子， time_step: 就是每个词\n",
    "    # 譬如两句话  我吃米。 米好吃。 可以把两句话第一个词 （我， 米）同时送进去RNN训练\n",
    "    # 左半边的训练\n",
    "    encoder_outputs, encoder_state = tf.nn.dynamic_rnn(encoder_cell, encoder_emb_inp,sequence_length=x_len, time_major=False,dtype=tf.float32)\n",
    "    print(\"encoder_outputs\",  encoder_outputs) # shape=(?, ?, 50)\n",
    "    print(\"encoder_state\", encoder_state) # shape=(?, 50)\n",
    "        \n",
    "    batch_size_in = tf.shape(x)[0] # 每个batch, 多少个setences.也就是 x的shape[0]\n",
    "    # 事先声明的dense 也就是fully connected layer， PPT右半边图中紫色全连接的框\n",
    "    # projection_layer: 对应右半边FC层的输出（PPT中紫红色的框）. ch2ind: dict type. 也就是target中文的词汇表对应的index\n",
    "    # ???\n",
    "    projection_layer = layers_core.Dense(len(ch2ind), use_bias=False) #对比text_classify: model_logistic = tf.layers.dense(encoder_state[0],1) \n",
    "    \n",
    "    # Dynamic decoding\n",
    "    with tf.variable_scope(\"decode_layer\"):\n",
    "        decoder_cell = tf.nn.rnn_cell.BasicLSTMCell(num_units) # Build decoder RNN cell\n",
    "        helper = tf.contrib.seq2seq.TrainingHelper(decoder_emb_inp, y_len, time_major=False)# Helper 用来接收RNN NMT结构图中右半边图中的y_in\n",
    "        # Decoder\n",
    "        decoder = tf.contrib.seq2seq.BasicDecoder(decoder_cell, helper, encoder_state,output_layer=projection_layer)\n",
    "        # Dynamic decoding(training  阶段的 decode)\n",
    "        outputs, _ , __ = tf.contrib.seq2seq.dynamic_decode(decoder)\n",
    "        # 对应PPT 中softmax页面， RNN 每个时间片都输出logits\n",
    "        # RNN 在training 阶段 的每个时间片（i.e. time_step 也就是每个单词）都会输出logits， logits 也就是  预测的值\n",
    "        logits = outputs.rnn_output # train 阶段 红色框 predict \n",
    "        # seq_max_len 对应PPT 15页中，batch里每个sequence的max length\n",
    "        # tf.sequence_mask 函数就可以帮你生成PPT page 16里的mask\n",
    "        # target_weights就是PPT中提到的mask矩阵\n",
    "        target_weights = tf.sequence_mask(y_len, seq_max_len, dtype=logits.dtype)\n",
    "    \n",
    "    # predicting 参考PPT里预测的网络结构\n",
    "    # Helper  训练 预测 共享网络参数\n",
    "    # variable_scope reuse=True的设置， 就可以在predicting 阶段共享training参数\n",
    "    with tf.variable_scope(\"decode_layer\", reuse=True):\n",
    "        # ???\n",
    "        helper = tf.contrib.seq2seq.GreedyEmbeddingHelper( embedding_decoder,tf.fill([batch_size_in], ch2ind['<start>']), ch2ind['<end>'])\n",
    "\n",
    "        # Decoder\n",
    "        decoder = tf.contrib.seq2seq.BasicDecoder(decoder_cell, helper, encoder_state, output_layer=projection_layer)\n",
    "        # Dynamic decoding\n",
    "        outputs, _ , __= tf.contrib.seq2seq.dynamic_decode(decoder, maximum_iterations=maximum_iterations)\n",
    "        translations = outputs.sample_id\n",
    "        \n",
    "\n",
    "    # calculate loss\n",
    "    # sparse_softmax 可以加速运算\n",
    "    # 基于PPT16 页， 去计算training 阶段的loss， 是基于训练时候每个时间片(time_step)输出的logits计算的\n",
    "    crossent = tf.nn.sparse_softmax_cross_entropy_with_logits(labels=y, logits=logits)\n",
    "    # 上面也就是那预测的值logits 和lable y去计算sparse_softmax_cross_entropy\n",
    "    #??? 分母中是一个batch里多少句话？？batch_size_in 为什么要除以这个？\n",
    "    # 论文里也有说呀，是把梯度除了batch_size等效于loss除batch_size. target_weights就是PPT中提到的mask矩阵\n",
    "    train_loss = (tf.reduce_sum(crossent * target_weights) / tf.cast(batch_size_in,tf.float32))\n",
    "    \n",
    "    optimizer_ori = tf.train.GradientDescentOptimizer(learning_rate=learning_rate)\n",
    "    trainable_params = tf.trainable_variables()\n",
    "    gradients = tf.gradients(train_loss, trainable_params)\n",
    "    # clip 就是梯度裁剪\n",
    "    clip_gradients, _ = tf.clip_by_global_norm(gradients, max_grad)\n",
    "    global_step = tf.Variable(0, trainable=False, name='global_step')\n",
    "    optimizer = optimizer_ori.apply_gradients(\n",
    "            zip(clip_gradients, trainable_params), global_step=global_step)\n",
    "    #optimizer = tf.train.GradientDescentOptimizer(learning_rate=learning_rate).minimize(train_loss)\n",
    "    #trainop = tflearn.TrainOp(loss=train_loss, optimizer=optimizer,\n",
    "    #                          metric=train_loss, batch_size=64)"
   ]
  },
  {
   "cell_type": "code",
   "execution_count": 41,
   "metadata": {},
   "outputs": [],
   "source": [
    "session.run(tf.global_variables_initializer())"
   ]
  },
  {
   "cell_type": "code",
   "execution_count": 42,
   "metadata": {},
   "outputs": [
    {
     "data": {
      "text/plain": [
       "(1, 5, 512)"
      ]
     },
     "execution_count": 42,
     "metadata": {},
     "output_type": "execute_result"
    }
   ],
   "source": [
    "session.run(encoder_emb_inp,feed_dict={x:np.asarray(dat_x_in[:1])}).shape"
   ]
  },
  {
   "cell_type": "code",
   "execution_count": 43,
   "metadata": {},
   "outputs": [],
   "source": [
    "# padding  把每个batch 里 长度不一样的句子padding成一样长的，以最长的句子为标准， 不够长的在末尾补<eos> OR <end>\n",
    "dat_x_in = tf.keras.preprocessing.sequence.pad_sequences(dat_x_in,padding='post',value=en2ind['<eos>'])\n",
    "dat_y_in = tf.keras.preprocessing.sequence.pad_sequences(dat_y_in,padding='post',value=en2ind['<end>'])\n",
    "dat_y_out = tf.keras.preprocessing.sequence.pad_sequences(dat_y_out,padding='post',value=en2ind['<end>'])\n",
    "\n",
    "dat_x_len = np.asarray(dat_x_len)\n",
    "dat_y_len = np.asarray(dat_y_len)"
   ]
  },
  {
   "cell_type": "code",
   "execution_count": 44,
   "metadata": {},
   "outputs": [
    {
     "data": {
      "text/plain": [
       "((103912, 6), (103912, 6), (103912, 6), (103912,), (103912,))"
      ]
     },
     "execution_count": 44,
     "metadata": {},
     "output_type": "execute_result"
    }
   ],
   "source": [
    "dat_x_in.shape,dat_y_in.shape,dat_y_out.shape,dat_x_len.shape,dat_y_len.shape"
   ]
  },
  {
   "cell_type": "markdown",
   "metadata": {},
   "source": [
    "## Training PART"
   ]
  },
  {
   "cell_type": "code",
   "execution_count": 46,
   "metadata": {},
   "outputs": [
    {
     "name": "stdout",
     "output_type": "stream",
     "text": [
      "EPOCH 1 batch 810 lr 4 loss 7.175935745239258 99.90 % [=================================================>-] 103808/103912 \t used:225s eta:0 sss"
     ]
    }
   ],
   "source": [
    "losses = []\n",
    "beginning_lr = 4\n",
    "for one_epoch in range(0,1):\n",
    "    index = np.asarray(list(range(len(dat_x_in)))) # index [0,1,2,3.........10000] (the size of dat_x_in)\n",
    "    np.random.shuffle(index) # 每一个epoch，开始时候，都shuffle一下\n",
    "    pb = ProgressBar(worksum=len(index)) # 每一个epoch，开始时候,都用ProgressBar Track\n",
    "    pb.startjob()\n",
    "    for i in range(0,len(index),batch_size):\n",
    "        # 在分类的例子里有个data_generate去数据，这里就hard_code取数据\n",
    "        batchindex = index[i:i + batch_size] # batchindex is not a single number. it's a array containing index\n",
    "        \n",
    "        batch_lr = beginning_lr if one_epoch < 20 else beginning_lr * 0.5 ** (one_epoch - 20)\n",
    "        if len(batchindex) < batch_size:\n",
    "            break\n",
    "        # 如果想看一下soft mask长什么样子可以 t = session.run(target_weights,feed_dict is same)\n",
    "        _,batch_loss = session.run([optimizer,train_loss],feed_dict={\n",
    "            x:dat_x_in[batchindex],\n",
    "            y:dat_y_out[batchindex],\n",
    "            y_in:dat_y_in[batchindex],\n",
    "\n",
    "            x_len:dat_x_len[batchindex],\n",
    "            y_len:dat_y_len[batchindex],\n",
    "            learning_rate:batch_lr,\n",
    "        })\n",
    "        pb.info = \"EPOCH {} batch {} lr {} loss {}\".format(one_epoch + 1,i // batch_size,batch_lr,batch_loss)\n",
    "        pb.complete(batch_size)\n",
    "        losses.append(batch_loss)"
   ]
  },
  {
   "cell_type": "code",
   "execution_count": 47,
   "metadata": {},
   "outputs": [],
   "source": [
    "import pandas as pd"
   ]
  },
  {
   "cell_type": "code",
   "execution_count": 48,
   "metadata": {},
   "outputs": [
    {
     "data": {
      "text/plain": [
       "<matplotlib.axes._subplots.AxesSubplot at 0x11e628e10>"
      ]
     },
     "execution_count": 48,
     "metadata": {},
     "output_type": "execute_result"
    },
    {
     "data": {
      "image/png": "[encoded data removed]",
      "text/plain": [
       "<Figure size 432x288 with 1 Axes>"
      ]
     },
     "metadata": {
      "needs_background": "light"
     },
     "output_type": "display_data"
    }
   ],
   "source": [
    "%matplotlib inline\n",
    "pd.DataFrame(losses).plot()"
   ]
  },
  {
   "cell_type": "markdown",
   "metadata": {},
   "source": [
    "# run predict"
   ]
  },
  {
   "cell_type": "code",
   "execution_count": 49,
   "metadata": {},
   "outputs": [],
   "source": [
    "def translate(sent):\n",
    "    senttoken = [en2ind[i.lower()] for i in sent.split()]\n",
    "    senttoken.append(en2ind['<eos>'])\n",
    "    inputx = np.asarray([senttoken])\n",
    "    inputx_len = np.asarray([len(senttoken)])\n",
    "    print(inputx,inputx_len)\n",
    "    batch_translations = session.run(translations,feed_dict={\n",
    "            x:inputx,\n",
    "            x_len:inputx_len,\n",
    "        })[0]\n",
    "    print(batch_translations)\n",
    "    for i in batch_translations:\n",
    "        print(ind2ch[i])\n",
    "    return ''.join([ind2ch[i] for i in batch_translations])"
   ]
  },
  {
   "cell_type": "code",
   "execution_count": 61,
   "metadata": {},
   "outputs": [],
   "source": [
    "source_sentence = \"I love shopping   .\""
   ]
  },
  {
   "cell_type": "code",
   "execution_count": 62,
   "metadata": {},
   "outputs": [
    {
     "name": "stdout",
     "output_type": "stream",
     "text": [
      "[[   7   84 1249    4    0]] [5]\n",
      "[   5   87 1340  156    4    2]\n",
      "我\n",
      "爱\n",
      "购\n",
      "物\n",
      "。\n",
      "<end>\n"
     ]
    },
    {
     "data": {
      "text/plain": [
       "'我爱购物。<end>'"
      ]
     },
     "execution_count": 62,
     "metadata": {},
     "output_type": "execute_result"
    }
   ],
   "source": [
    "translate(source_sentence)"
   ]
  },
  {
   "cell_type": "code",
   "execution_count": null,
   "metadata": {},
   "outputs": [],
   "source": [
    "! mkdir models"
   ]
  },
  {
   "cell_type": "code",
   "execution_count": null,
   "metadata": {},
   "outputs": [],
   "source": [
    "saver = tf.train.Saver()"
   ]
  },
  {
   "cell_type": "code",
   "execution_count": null,
   "metadata": {},
   "outputs": [],
   "source": [
    "saver.save(session,'models/seq2seq_model')"
   ]
  },
  {
   "cell_type": "code",
   "execution_count": null,
   "metadata": {},
   "outputs": [],
   "source": [
    "! ls -l 'models/seq2seq_model.data-00000-of-00001'"
   ]
  },
  {
   "cell_type": "code",
   "execution_count": null,
   "metadata": {},
   "outputs": [],
   "source": []
  }
 ],
 "metadata": {
  "kernelspec": {
   "display_name": "Python 3",
   "language": "python",
   "name": "python3"
  },
  "language_info": {
   "codemirror_mode": {
    "name": "ipython",
    "version": 3
   },
   "file_extension": ".py",
   "mimetype": "text/x-python",
   "name": "python",
   "nbconvert_exporter": "python",
   "pygments_lexer": "ipython3",
   "version": "3.6.6"
  }
 },
 "nbformat": 4,
 "nbformat_minor": 2
}
