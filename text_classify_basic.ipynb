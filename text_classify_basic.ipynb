{
 "cells": [
  {
   "cell_type": "markdown",
   "metadata": {},
   "source": [
    "# DATA DOWNLOAD\n",
    " 中文英文语句pair， 每一行是一个语句， 目标是分类 中文 和英文一共 2千万行\n",
    "To start this project, you need an addition data file.\n",
    "\n",
    "First you should download data from:\n",
    "https://pan.baidu.com/s/1KFui9zZKjRqzFkCJH5nenw\n",
    "\n",
    "https://www.kaggle.com/seesea0203/segmented-train-seg-by-word\n",
    "    \n",
    "Then unzip it,create a data dir, and put it in data directory\n",
    "\n",
    "## After you do all that , the following file should be found:\n",
    "\n",
    "```python\n",
    "'data/segmented_train_seg_by_word.txt' \n",
    "```\n",
    "\n",
    "And that means you are good to go."
   ]
  },
  {
   "cell_type": "code",
   "execution_count": 1,
   "metadata": {},
   "outputs": [
    {
     "name": "stdout",
     "output_type": "stream",
     "text": [
      " 20000000 data/segmented_train_seg_by_word.txt\r\n"
     ]
    }
   ],
   "source": [
    "! wc -l data/segmented_train_seg_by_word.txt # 语句前面加上 ”!“ 就可以执行 bash/shell scripts"
   ]
  },
  {
   "cell_type": "markdown",
   "metadata": {},
   "source": [
    "## first 4 lines of the file: \"segmented_train_seg_by_word.txt\"\n",
    "\n",
    "a pair of red - crowned cranes have staked out their nesting territory\n",
    "\n",
    "一对 丹顶鹤 正 监视 着 它们 的 筑巢 领地\n",
    "\n",
    "a pair of crows had come to nest on our roof as if they had come for lhamo .\n",
    "\n",
    "一对 乌鸦 飞 到 我们 屋顶 上 的 巢里 ， 它们 好像 专门 为拉木 而 来 的 。"
   ]
  },
  {
   "cell_type": "markdown",
   "metadata": {},
   "source": [
    "# DATA PROCESS"
   ]
  },
  {
   "cell_type": "code",
   "execution_count": 3,
   "metadata": {},
   "outputs": [],
   "source": [
    "from utils import ProgressBar\n",
    "import numpy as np\n",
    "import collections\n",
    "from matplotlib import pyplot as plt\n",
    "import tensorflow as tf\n",
    "import pandas as pd\n",
    "%matplotlib inline"
   ]
  },
  {
   "cell_type": "code",
   "execution_count": 4,
   "metadata": {},
   "outputs": [
    {
     "name": "stdout",
     "output_type": "stream",
     "text": [
      " 100.00 % [==================================================>] 10000000/10000000 \t used:47s eta:0 s"
     ]
    }
   ],
   "source": [
    "enline = None # elglish line\n",
    "chline = None # chinese line\n",
    "\n",
    "sentlength = 4\n",
    "\n",
    "enlines = []\n",
    "chlines = []\n",
    "pb = ProgressBar(worksum=10000000) # from \"utils\" python file\n",
    "pb.startjob()\n",
    "num = 0\n",
    "with open('data/segmented_train_seg_by_word.txt') as fhdl:\n",
    "    for line in fhdl:\n",
    "        num += 1\n",
    "        if num % 2 == 1:\n",
    "            enline = line\n",
    "            continue # 继续for loop,读下一行.每一句英语句子，接下来的一行就是对应的中文语句\n",
    "        else:\n",
    "            chline = line\n",
    "        \n",
    "        enlinesp = [i.lower() for i in enline.strip(\"\\n\").split()] # 去掉句末的换行符，convert成lowcase, split成数组\n",
    "        chlinesp = [i for i in chline.strip(\"\\n\").split()] # 去掉句末的换行符, split成数组\n",
    "        if len(enlinesp) <= sentlength and len(chlinesp) <= sentlength: # > 4 个词的句子 忽略掉\n",
    "            enlines.append(enlinesp)\n",
    "            chlines.append(chlinesp)\n",
    "        if (num // 2) % 1000 == 0:\n",
    "            pb.complete(1000)\n",
    "            \n",
    "        #if num // 2 >= 1000000:\n",
    "        #    break\n",
    "        "
   ]
  },
  {
   "cell_type": "code",
   "execution_count": 5,
   "metadata": {},
   "outputs": [
    {
     "data": {
      "text/plain": [
       "(150904, 150904)"
      ]
     },
     "execution_count": 5,
     "metadata": {},
     "output_type": "execute_result"
    }
   ],
   "source": [
    "len(enlines),len(chlines)"
   ]
  },
  {
   "cell_type": "code",
   "execution_count": 7,
   "metadata": {},
   "outputs": [
    {
     "data": {
      "text/plain": [
       "(['one', 'against', '500', '.'], ['一对', '五百', '诶', '。'])"
      ]
     },
     "execution_count": 7,
     "metadata": {},
     "output_type": "execute_result"
    }
   ],
   "source": [
    "enlines[1], chlines[1] # enlines, chlines 数组里存的 中英文 是一一对应的"
   ]
  },
  {
   "cell_type": "code",
   "execution_count": 12,
   "metadata": {},
   "outputs": [
    {
     "data": {
      "text/plain": [
       "'一对'"
      ]
     },
     "execution_count": 12,
     "metadata": {},
     "output_type": "execute_result"
    }
   ],
   "source": [
    "chlines[1][0]"
   ]
  },
  {
   "cell_type": "code",
   "execution_count": 13,
   "metadata": {},
   "outputs": [],
   "source": [
    "words = []\n",
    "\n",
    "for sent in chlines: # e.g. chlines[1]:  ['一对', '五百', '诶', '。']\n",
    "    for word in sent: # e.g. chlines[1][0]:  '一对'\n",
    "        words.append(word) # 把每一行的一句话里每一个单词都存入words数组\n",
    "        \n",
    "for sent in enlines:\n",
    "    for word in sent:\n",
    "        words.append(word)"
   ]
  },
  {
   "cell_type": "code",
   "execution_count": 14,
   "metadata": {},
   "outputs": [],
   "source": [
    "from collections import Counter # Counter, most_common"
   ]
  },
  {
   "cell_type": "code",
   "execution_count": 15,
   "metadata": {},
   "outputs": [
    {
     "data": {
      "text/plain": [
       "[('.', 69213),\n",
       " ('。', 64997),\n",
       " ('？', 18494),\n",
       " ('?', 18486),\n",
       " ('的', 15156),\n",
       " ('...', 15073),\n",
       " (',', 13814),\n",
       " ('，', 12598),\n",
       " ('the', 11865),\n",
       " ('我', 11374),\n",
       " ('！', 11165),\n",
       " ('!', 10976),\n",
       " ('i', 8885),\n",
       " ('你', 7707),\n",
       " ('了', 7633)]"
      ]
     },
     "execution_count": 15,
     "metadata": {},
     "output_type": "execute_result"
    }
   ],
   "source": [
    "Counter(words).most_common(15)"
   ]
  },
  {
   "cell_type": "code",
   "execution_count": 16,
   "metadata": {},
   "outputs": [],
   "source": [
    "def addchar(what2ind,ind2what,char): # what2ind: char -> index,  ind2what: index -> char\n",
    "    if char in what2ind:\n",
    "        return \n",
    "    ind2what[len(what2ind)] = char # 通过len(what2ind), 这样 就一直append 在ind2what 数组后面下一个空位\n",
    "    what2ind[char] = len(what2ind)"
   ]
  },
  {
   "cell_type": "code",
   "execution_count": 19,
   "metadata": {},
   "outputs": [
    {
     "name": "stdout",
     "output_type": "stream",
     "text": [
      "word2ind {'<pad>': 0, '<unk>': 1}\n",
      "ind2word {0: '<pad>', 1: '<unk>'}\n"
     ]
    }
   ],
   "source": [
    "word2ind = {} # dict type\n",
    "ind2word = {}\n",
    "\n",
    "specialchars = ['<pad>','<unk>']\n",
    "\n",
    "for specialchar in specialchars:\n",
    "    addchar(word2ind,ind2word,specialchar)\n",
    "    \n",
    "print(\"word2ind\", word2ind)\n",
    "print(\"ind2word\", ind2word)"
   ]
  },
  {
   "cell_type": "code",
   "execution_count": 20,
   "metadata": {},
   "outputs": [],
   "source": [
    "for word,_ in Counter(words).most_common(10000): # 只处理频率高的 前10000的word. most_common: return {workd -> frequency}\n",
    "    addchar(word2ind,ind2word,word)"
   ]
  },
  {
   "cell_type": "code",
   "execution_count": 37,
   "metadata": {},
   "outputs": [],
   "source": [
    "dat_x_in = []\n",
    "dat_y = []\n",
    "\n",
    "for chsent,ensent in zip(chlines,enlines): # chlines数组：包含所有中文句子，enlines数组： 包含所有英语句子\n",
    "    indsent = [word2ind.get(i,word2ind['<unk>']) for i in chsent] # 中文句子里每个单词转化为,word2ind字典里预先定义好的index i.e. indsent\n",
    "    dat_x_in.append(indsent) # dat_x_in数组里，每个元素是一句话，用word2ind里index表示的一句话\n",
    "    dat_y.append(0) # 0表示中文\n",
    "    \n",
    "    indsent = [word2ind.get(i,word2ind['<unk>']) for i in ensent]\n",
    "    dat_x_in.append(indsent)\n",
    "    dat_y.append(1) # 1表示英文"
   ]
  },
  {
   "cell_type": "code",
   "execution_count": 39,
   "metadata": {},
   "outputs": [
    {
     "data": {
      "text/plain": [
       "[1, 1, 3]"
      ]
     },
     "execution_count": 39,
     "metadata": {},
     "output_type": "execute_result"
    }
   ],
   "source": [
    "dat_x_in[0]"
   ]
  },
  {
   "cell_type": "markdown",
   "metadata": {},
   "source": [
    "### 上面for loop解释\n",
    "dat_x_in[1], dat_y[1] \n",
    "\n",
    "输出： ([1, 10, 5685, 2], 1)\n",
    "\n",
    "ind2word.get(dat_x_in[1][0]), ind2word.get(dat_x_in[1][1]), ind2word.get(dat_x_in[1][2]), ind2word.get(dat_x_in[1[3])\n",
    "\n",
    "输出： ('<unk>', 'the', 'winner', '.')"
   ]
  },
  {
   "cell_type": "code",
   "execution_count": 40,
   "metadata": {},
   "outputs": [],
   "source": [
    "# 运行下面一句之前： dat_x_in[0] -> [1, 1, 3] 运行下面一句之后： dat_x_in[0] -> [1, 1, 3, 0]\n",
    "# 作用就是长度不够4的，在句子结尾padding，不上特殊字符<pad>对应的index\n",
    "# keras pad_sequence是如何知道要padding 到长度为4的？ 因为由于前面处理的时候，最长的句子也就是4，所以 都会padding 成长度为4的\n",
    "# padding='post' 表示在句子后面补\n",
    "dat_x_in = tf.keras.preprocessing.sequence.pad_sequences(dat_x_in,padding='post',value=word2ind['<pad>'])"
   ]
  },
  {
   "cell_type": "code",
   "execution_count": 42,
   "metadata": {},
   "outputs": [
    {
     "data": {
      "text/plain": [
       "numpy.ndarray"
      ]
     },
     "execution_count": 42,
     "metadata": {},
     "output_type": "execute_result"
    }
   ],
   "source": [
    "type(dat_x_in) # 上面keras padding方法也顺便把 python native 数组 convert 成了numpy ndarray类型了"
   ]
  },
  {
   "cell_type": "code",
   "execution_count": 43,
   "metadata": {},
   "outputs": [],
   "source": [
    "dat_y = np.asarray(dat_y)"
   ]
  },
  {
   "cell_type": "code",
   "execution_count": 44,
   "metadata": {},
   "outputs": [
    {
     "data": {
      "text/plain": [
       "((301808, 4), (301808,))"
      ]
     },
     "execution_count": 44,
     "metadata": {},
     "output_type": "execute_result"
    }
   ],
   "source": [
    "dat_x_in.shape,dat_y.shape  # python native 数组没有.shape属性，只有np.ndarray才有"
   ]
  },
  {
   "cell_type": "code",
   "execution_count": 45,
   "metadata": {},
   "outputs": [],
   "source": [
    "def data_generator(batch_size):\n",
    "    while True:\n",
    "        for i in range(0,len(dat_x_in),batch_size): # batch_size相当于步长，每隔多少\n",
    "            if i + batch_size < len(dat_x_in):\n",
    "                yield dat_x_in[i:i + batch_size],dat_y[i:i + batch_size] #  不包含 i + batch_size， 由于步长为batch_size， 下一次从i + batch_size位置开始"
   ]
  },
  {
   "cell_type": "code",
   "execution_count": 46,
   "metadata": {},
   "outputs": [],
   "source": [
    "gen = data_generator(256)"
   ]
  },
  {
   "cell_type": "code",
   "execution_count": 47,
   "metadata": {},
   "outputs": [],
   "source": [
    "batch_x,batch_y = gen.__next__()"
   ]
  },
  {
   "cell_type": "code",
   "execution_count": 48,
   "metadata": {},
   "outputs": [
    {
     "data": {
      "text/plain": [
       "((256, 4), (256,))"
      ]
     },
     "execution_count": 48,
     "metadata": {},
     "output_type": "execute_result"
    }
   ],
   "source": [
    "batch_x.shape ,batch_y.shape"
   ]
  },
  {
   "cell_type": "markdown",
   "metadata": {},
   "source": [
    "# MODEL PART"
   ]
  },
  {
   "cell_type": "code",
   "execution_count": 49,
   "metadata": {},
   "outputs": [],
   "source": [
    "batch_size = 256\n",
    "embedding_size = 100 # 就是词的embedding表的列数， 也就是每个单词就会变成 1 * 100 的矩阵\n",
    "vocabulary_size = len(ind2word)\n",
    "num_units = 50 # 表示一共多少RNN cell. hyper parameter"
   ]
  },
  {
   "cell_type": "code",
   "execution_count": 51,
   "metadata": {},
   "outputs": [],
   "source": [
    "import tensorflow as tf\n",
    "#import tflearn\n",
    "tf.reset_default_graph()\n",
    "config = tf.ConfigProto(log_device_placement=True,allow_soft_placement = True)\n",
    "config.gpu_options.allow_growth = True\n",
    "#config.gpu_options.per_process_gpu_memory_fraction = 0.4\n",
    "session = tf.Session(config=config)\n"
   ]
  },
  {
   "cell_type": "code",
   "execution_count": 52,
   "metadata": {},
   "outputs": [
    {
     "name": "stdout",
     "output_type": "stream",
     "text": [
      "WARNING:tensorflow:From <ipython-input-52-20265e98a5ab>:16: BasicLSTMCell.__init__ (from tensorflow.python.ops.rnn_cell_impl) is deprecated and will be removed in a future version.\n",
      "Instructions for updating:\n",
      "This class is deprecated, please use tf.nn.rnn_cell.LSTMCell, which supports all the feature this cell currently has. Please replace the existing code with tf.nn.rnn_cell.LSTMCell(name='basic_lstm_cell').\n"
     ]
    }
   ],
   "source": [
    "with tf.device('/gpu:1'):\n",
    "    initializer = tf.random_uniform_initializer(-0.08, 0.08) # 所有变量都 在这个范围内的 均匀分布\n",
    "    tf.get_variable_scope().set_initializer(initializer)\n",
    "    x = tf.placeholder(\"int32\", [None, None]) # \n",
    "    y = tf.placeholder(\"int32\", [None])\n",
    "    x_len = tf.placeholder(\"int32\",[None]) # 句子在没有被padding 之前的实际长度. 这个 batch 里每个句子要过多少个RNN cell. rnn里 sequence_length\n",
    "    \n",
    "    learning_rate = tf.placeholder(tf.float32, shape=[])\n",
    "    \n",
    "    # embedding\n",
    "    # vocabulary_size = len(ind2word), embedding_size=100 [vocabulary_size, embedding_size] 就是 n * 100的embedding词表\n",
    "    # tf.get_variable(\"embedding_encoder\") 就是获得指定名称，指定大小的变量而已\n",
    "    embedding_encoder = tf.get_variable(\"embedding_encoder\", [vocabulary_size, embedding_size],dtype=tf.float32)\n",
    "    encoder_emb_inp = tf.nn.embedding_lookup(embedding_encoder, x) # embedding就是查表的过程，encoder_emb_inp将会作为RNN cell的 input\n",
    "    \n",
    "    # Build RNN cell\n",
    "    encoder_cell = tf.nn.rnn_cell.BasicLSTMCell(num_units) # 表示一共多少RNN cell\n",
    "    \n",
    "    # Run Dynamic RNN\n",
    "    #   encoder_outputs: [max_time, batch_size, num_units]\n",
    "    #   encoder_state: [batch_size, num_units]\n",
    "    # encoder_outputs PPT里每个输出y1, y2..\n",
    "    # encoder_state 就是最后一个RNN cell的输出state\n",
    "    # x_len 表示是实际的句子的长度（没有被padding之前的原始长度），这样RNN 模型就知道用几个RNN cell,也就是知道需要哪个RNN cell时间片的输出\n",
    "    encoder_outputs, encoder_state = tf.nn.dynamic_rnn(\n",
    "        encoder_cell, encoder_emb_inp,\n",
    "        sequence_length=x_len, time_major=False,dtype=tf.float32)\n",
    "    \n",
    "    # 因为用了LSTM, 所以encoder_state输出是数组，有多个hidden state, 所以encoder_state[0]表示用上面的输出 如果使用basic RNN 就用encoder_state就好了\n",
    "    # 把sequence最后一个RNN cell输出的state,送入到FC layer. \n",
    "    # before FC layer, encoder_state[0] -> 256 * 50, after FC layer, -> 256 * 1  (1表示维度。。因为就是2分类)\n",
    "    model_logistic = tf.layers.dense(encoder_state[0],1) \n",
    "    model_pred = tf.nn.sigmoid(model_logistic)\n",
    "    loss = tf.nn.sigmoid_cross_entropy_with_logits(labels=tf.cast(y,tf.float32),logits=tf.reshape(model_logistic,(-1,)))\n",
    "    loss = tf.reduce_mean(loss)\n",
    "    optimizer = tf.train.GradientDescentOptimizer(learning_rate=learning_rate).minimize(loss)\n",
    "    "
   ]
  },
  {
   "cell_type": "code",
   "execution_count": 53,
   "metadata": {},
   "outputs": [],
   "source": [
    "session.run(tf.global_variables_initializer())"
   ]
  },
  {
   "cell_type": "code",
   "execution_count": 54,
   "metadata": {},
   "outputs": [
    {
     "name": "stdout",
     "output_type": "stream",
     "text": [
      "EPOCH 0 batch 301568 lr 0.1 loss 0.1441277414560318 100.01 % [==================================================>] 301824/301808 \t used:5s eta:0 sss"
     ]
    }
   ],
   "source": [
    "losses = []\n",
    "beginning_lr = 0.1\n",
    "gen = data_generator(batch_size)\n",
    "for one_epoch in range(0,1): # 就run一个epoch\n",
    "    pb = ProgressBar(worksum=len(dat_x_in))\n",
    "    pb.startjob()\n",
    "    for one_batch in range(0,len(dat_x_in),batch_size):\n",
    "        batch_x,batch_y = gen.__next__()\n",
    "        batch_x_len = np.asarray([len(i) for i in batch_x]) # 每一个batch里，每一个sample句子长度构成的数组\n",
    "        batch_lr = beginning_lr \n",
    "        \n",
    "        # 怎么决定要传入哪些参数给 feed_dict? 一般placehold 类型的要传入\n",
    "        _,batch_loss = session.run([optimizer,loss],feed_dict={\n",
    "            x:batch_x,\n",
    "            y:batch_y,\n",
    "            x_len:batch_x_len,\n",
    "            learning_rate:batch_lr,\n",
    "        })\n",
    "        pb.info = \"EPOCH {} batch {} lr {} loss {}\".format(one_epoch,one_batch,batch_lr,batch_loss)\n",
    "        pb.complete(batch_size) # 没finish training一个batch,  打印一次进度条\n",
    "        losses.append(batch_loss)"
   ]
  },
  {
   "cell_type": "code",
   "execution_count": 55,
   "metadata": {},
   "outputs": [
    {
     "data": {
      "text/plain": [
       "<matplotlib.axes._subplots.AxesSubplot at 0xb2a1f0dd8>"
      ]
     },
     "execution_count": 55,
     "metadata": {},
     "output_type": "execute_result"
    },
    {
     "data": {
      "image/png": "[encoded data removed]",
      "text/plain": [
       "<Figure size 432x288 with 1 Axes>"
      ]
     },
     "metadata": {
      "needs_background": "light"
     },
     "output_type": "display_data"
    }
   ],
   "source": [
    "%matplotlib inline\n",
    "pd.DataFrame(losses).plot()"
   ]
  },
  {
   "cell_type": "markdown",
   "metadata": {},
   "source": [
    "# run predict"
   ]
  },
  {
   "cell_type": "code",
   "execution_count": 59,
   "metadata": {},
   "outputs": [],
   "source": [
    "def predict_result(sent):\n",
    "    senttoken = [word2ind[i.lower()] for i in sent.split()] # 输入的句子:1. 按空格分割 2.每个单词变成lowercase 3. convert成index\n",
    "    inputx = np.asarray([senttoken]) # Python的native array 变成 np.array\n",
    "    inputx_len = np.asarray([len(senttoken)])\n",
    "    \n",
    "    print(inputx,inputx_len)\n",
    "    \"\"\"\n",
    "        model_logistic = tf.layers.dense(encoder_state[0],1) # FC layer\n",
    "        model_pred = tf.nn.sigmoid(model_logistic)\n",
    "    \"\"\"\n",
    "    \n",
    "    batch_predict = session.run(model_pred,feed_dict={\n",
    "            x:inputx,\n",
    "            x_len:inputx_len,\n",
    "        })[0]\n",
    "    return \"英文\" if batch_predict > 0.5 else \"中文\""
   ]
  },
  {
   "cell_type": "code",
   "execution_count": 60,
   "metadata": {},
   "outputs": [],
   "source": [
    "source_sentence = \"who are you , what do you want .\""
   ]
  },
  {
   "cell_type": "code",
   "execution_count": 61,
   "metadata": {},
   "outputs": [
    {
     "name": "stdout",
     "output_type": "stream",
     "text": [
      "[[278  48  18   8  29 125  18 186   2]] [9]\n"
     ]
    },
    {
     "data": {
      "text/plain": [
       "'英文'"
      ]
     },
     "execution_count": 61,
     "metadata": {},
     "output_type": "execute_result"
    }
   ],
   "source": [
    "predict_result(source_sentence)"
   ]
  },
  {
   "cell_type": "code",
   "execution_count": null,
   "metadata": {
    "collapsed": true
   },
   "outputs": [],
   "source": []
  }
 ],
 "metadata": {
  "kernelspec": {
   "display_name": "Python 3",
   "language": "python",
   "name": "python3"
  },
  "language_info": {
   "codemirror_mode": {
    "name": "ipython",
    "version": 3
   },
   "file_extension": ".py",
   "mimetype": "text/x-python",
   "name": "python",
   "nbconvert_exporter": "python",
   "pygments_lexer": "ipython3",
   "version": "3.6.6"
  }
 },
 "nbformat": 4,
 "nbformat_minor": 2
}
