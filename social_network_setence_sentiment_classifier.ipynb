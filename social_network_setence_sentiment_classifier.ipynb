{
 "cells": [
  {
   "cell_type": "markdown",
   "metadata": {},
   "source": [
    "### 句子情感分类 - 判断社交网络中的句子的情感倾向\n",
    "#### Data Download: https://www.lintcode.com/ai/UMICH_Sentiment_Analysis/data\n",
    "\n",
    "        "
   ]
  },
  {
   "cell_type": "code",
   "execution_count": 27,
   "metadata": {},
   "outputs": [],
   "source": [
    "import numpy as np\n",
    "import collections\n",
    "from matplotlib import pyplot as plt\n",
    "import tensorflow as tf\n",
    "import pandas as pd\n",
    "import os\n",
    "import nltk\n",
    "from keras.preprocessing import sequence\n",
    "import tqdm\n",
    "%matplotlib inline"
   ]
  },
  {
   "cell_type": "code",
   "execution_count": 7,
   "metadata": {
    "scrolled": true
   },
   "outputs": [
    {
     "data": {
      "text/html": [
       "<div>\n",
       "<style scoped>\n",
       "    .dataframe tbody tr th:only-of-type {\n",
       "        vertical-align: middle;\n",
       "    }\n",
       "\n",
       "    .dataframe tbody tr th {\n",
       "        vertical-align: top;\n",
       "    }\n",
       "\n",
       "    .dataframe thead th {\n",
       "        text-align: right;\n",
       "    }\n",
       "</style>\n",
       "<table border=\"1\" class=\"dataframe\">\n",
       "  <thead>\n",
       "    <tr style=\"text-align: right;\">\n",
       "      <th></th>\n",
       "      <th>sentence</th>\n",
       "      <th>label</th>\n",
       "    </tr>\n",
       "  </thead>\n",
       "  <tbody>\n",
       "    <tr>\n",
       "      <th>0</th>\n",
       "      <td>Ok brokeback mountain is such a horrible movie.</td>\n",
       "      <td>0</td>\n",
       "    </tr>\n",
       "    <tr>\n",
       "      <th>1</th>\n",
       "      <td>Brokeback Mountain was so awesome.</td>\n",
       "      <td>1</td>\n",
       "    </tr>\n",
       "    <tr>\n",
       "      <th>2</th>\n",
       "      <td>friday hung out with kelsie and we went and sa...</td>\n",
       "      <td>0</td>\n",
       "    </tr>\n",
       "    <tr>\n",
       "      <th>3</th>\n",
       "      <td>I am going to start reading the Harry Potter s...</td>\n",
       "      <td>1</td>\n",
       "    </tr>\n",
       "    <tr>\n",
       "      <th>4</th>\n",
       "      <td>Is it just me, or does Harry Potter suck?...</td>\n",
       "      <td>0</td>\n",
       "    </tr>\n",
       "  </tbody>\n",
       "</table>\n",
       "</div>"
      ],
      "text/plain": [
       "                                            sentence  label\n",
       "0    Ok brokeback mountain is such a horrible movie.      0\n",
       "1                 Brokeback Mountain was so awesome.      1\n",
       "2  friday hung out with kelsie and we went and sa...      0\n",
       "3  I am going to start reading the Harry Potter s...      1\n",
       "4       Is it just me, or does Harry Potter suck?...      0"
      ]
     },
     "execution_count": 7,
     "metadata": {},
     "output_type": "execute_result"
    }
   ],
   "source": [
    "DATA_DIR = \"./data\"\n",
    "\n",
    "train_data = pd.read_csv(os.path.join(DATA_DIR, \"train.csv\"))\n",
    "test_data = pd.read_csv(os.path.join(DATA_DIR, \"test.csv\"))\n",
    "\n",
    "train_data.head()"
   ]
  },
  {
   "cell_type": "code",
   "execution_count": 8,
   "metadata": {},
   "outputs": [
    {
     "data": {
      "text/html": [
       "<div>\n",
       "<style scoped>\n",
       "    .dataframe tbody tr th:only-of-type {\n",
       "        vertical-align: middle;\n",
       "    }\n",
       "\n",
       "    .dataframe tbody tr th {\n",
       "        vertical-align: top;\n",
       "    }\n",
       "\n",
       "    .dataframe thead th {\n",
       "        text-align: right;\n",
       "    }\n",
       "</style>\n",
       "<table border=\"1\" class=\"dataframe\">\n",
       "  <thead>\n",
       "    <tr style=\"text-align: right;\">\n",
       "      <th></th>\n",
       "      <th>sentence</th>\n",
       "    </tr>\n",
       "  </thead>\n",
       "  <tbody>\n",
       "    <tr>\n",
       "      <th>0</th>\n",
       "      <td>I liked the first \" Mission Impossible.</td>\n",
       "    </tr>\n",
       "    <tr>\n",
       "      <th>1</th>\n",
       "      <td>I love Harry Potter..</td>\n",
       "    </tr>\n",
       "    <tr>\n",
       "      <th>2</th>\n",
       "      <td>Not because I hate Harry Potter, but because I...</td>\n",
       "    </tr>\n",
       "    <tr>\n",
       "      <th>3</th>\n",
       "      <td>the story of Harry Potter is a deep and profou...</td>\n",
       "    </tr>\n",
       "    <tr>\n",
       "      <th>4</th>\n",
       "      <td>The complaints I've seen about the \" Vito-bein...</td>\n",
       "    </tr>\n",
       "  </tbody>\n",
       "</table>\n",
       "</div>"
      ],
      "text/plain": [
       "                                            sentence\n",
       "0            I liked the first \" Mission Impossible.\n",
       "1                              I love Harry Potter..\n",
       "2  Not because I hate Harry Potter, but because I...\n",
       "3  the story of Harry Potter is a deep and profou...\n",
       "4  The complaints I've seen about the \" Vito-bein..."
      ]
     },
     "execution_count": 8,
     "metadata": {},
     "output_type": "execute_result"
    }
   ],
   "source": [
    "test_data.head()"
   ]
  },
  {
   "cell_type": "code",
   "execution_count": 9,
   "metadata": {},
   "outputs": [
    {
     "name": "stdout",
     "output_type": "stream",
     "text": [
      "5668\n"
     ]
    }
   ],
   "source": [
    "num_recs = len(train_data) # number of total train sentences\n",
    "print(num_recs)"
   ]
  },
  {
   "cell_type": "code",
   "execution_count": 22,
   "metadata": {},
   "outputs": [
    {
     "data": {
      "text/plain": [
       "1418"
      ]
     },
     "execution_count": 22,
     "metadata": {},
     "output_type": "execute_result"
    }
   ],
   "source": [
    "len(test_data) # number of total test sentences"
   ]
  },
  {
   "cell_type": "code",
   "execution_count": 36,
   "metadata": {},
   "outputs": [],
   "source": [
    "train_data_10 = train_data.head(1)\n",
    "test_data_10 = test_data.head(1)"
   ]
  },
  {
   "cell_type": "code",
   "execution_count": 40,
   "metadata": {},
   "outputs": [
    {
     "name": "stdout",
     "output_type": "stream",
     "text": [
      "[nltk_data] Downloading package punkt to /Users/s4467575/nltk_data...\n",
      "[nltk_data]   Unzipping tokenizers/punkt.zip.\n"
     ]
    },
    {
     "data": {
      "text/plain": [
       "True"
      ]
     },
     "execution_count": 40,
     "metadata": {},
     "output_type": "execute_result"
    }
   ],
   "source": [
    "nltk.download('punkt') #"
   ]
  },
  {
   "cell_type": "code",
   "execution_count": 65,
   "metadata": {},
   "outputs": [],
   "source": [
    "maxlen = 0 # maximum sentence length\n",
    "word_freqs = collections.Counter() # word frequency\n",
    "\n",
    "# Note: train， test 数据都要考虑到\n",
    "for data in [train_data, test_data]: # 相当于把train test 一起同时处理了，否则需要两个for loop分别处理train 和test\n",
    "    for index, row in data.iterrows(): # iterae each row\n",
    "        '''\n",
    "            为了使用nltk.word_tokenize, 需要先run \"nltk.download('punkt')\" command to download 语料库\n",
    "            nltk.word_tokenize就是把句子分割成单词：\n",
    "            e.g. \"Ok brokeback mountain is such a horrible movie.\" ==>\n",
    "                  ['ok', 'brokeback', 'mountain', 'is', 'such', 'a', 'horrible', 'movie', '.']\n",
    "            \n",
    "            因为train  data 里的 有lable column, 所以row['sentence'] 表示只处理\"sentence\" column\n",
    "            \n",
    "        '''\n",
    "        words = nltk.word_tokenize(row['sentence'].lower())\n",
    "        if (len(words) > maxlen):\n",
    "            maxlen = len(words)\n",
    "        for word in words:\n",
    "            word_freqs[word] += 1\n",
    "\n",
    "# word_freqs: dict type: (word, counts)"
   ]
  },
  {
   "cell_type": "code",
   "execution_count": 66,
   "metadata": {},
   "outputs": [
    {
     "name": "stdout",
     "output_type": "stream",
     "text": [
      "2328\n",
      "42\n"
     ]
    }
   ],
   "source": [
    "print(len(word_freqs))\n",
    "print(maxlen)"
   ]
  },
  {
   "cell_type": "code",
   "execution_count": 67,
   "metadata": {},
   "outputs": [],
   "source": [
    "MAX_FEATURES = 2300 # number of unique words\n",
    "MAX_SENTENCE_LENGTH = maxlen # maximum sentence length"
   ]
  },
  {
   "cell_type": "code",
   "execution_count": 76,
   "metadata": {},
   "outputs": [],
   "source": [
    "vocab_size = MAX_FEATURES + 2 # two more extra special words \"PAD\", \"UNK\"\n",
    "\n",
    "\"\"\"\n",
    "    i: index, x: ('i', 4705), x[0]: i (即表示实际的word)\n",
    "    本来 i就是表示index的意思， 只不过 0， 1 预留给了PAD, UNK特殊字符，其他所有的word的index都往后顺移2位\n",
    "\"\"\"\n",
    "word2index = {x[0]: i+2 for i, x in enumerate(word_freqs.most_common(MAX_FEATURES))} # word2index: (word, index), from most to least\n",
    "# word_freqs: (word, count)\n",
    "\n",
    "word2index[\"PAD\"] = 0\n",
    "word2index[\"UNK\"] = 1\n",
    "\n",
    "index2word = {v:k for k, v in word2index.items()} # word2index: (index, word), from most to least\n"
   ]
  },
  {
   "cell_type": "code",
   "execution_count": null,
   "metadata": {},
   "outputs": [],
   "source": [
    "print(word2index)"
   ]
  },
  {
   "cell_type": "code",
   "execution_count": 77,
   "metadata": {},
   "outputs": [],
   "source": [
    "data_X = np.empty((num_recs, ), dtype=list) # num_recs: number of total train sentences\n",
    "data_y = np.zeros((num_recs, ))\n",
    "\n",
    "#把train_data 每一句话 都split 成word,让后把word -> 对应的index\n",
    "for i, (index, row) in enumerate(train_data.iterrows()):\n",
    "    words = nltk.word_tokenize(row['sentence'].lower())\n",
    "    seqs = []\n",
    "    for word in words:\n",
    "        seqs.append(word2index.get(word, word2index['UNK']))\n",
    "    data_X[i] = seqs\n",
    "    data_y[i] = int(row['label'])"
   ]
  },
  {
   "cell_type": "code",
   "execution_count": 79,
   "metadata": {
    "scrolled": true
   },
   "outputs": [
    {
     "name": "stdout",
     "output_type": "stream",
     "text": [
      "[[ 94  11  13  17 143  18 126  26   4   0   0   0   0   0   0   0   0   0\n",
      "    0   0   0   0   0   0   0   0   0   0   0   0   0   0   0   0   0   0\n",
      "    0   0   0   0   0   0]\n",
      " [ 11  13  19  33  22   4   0   0   0   0   0   0   0   0   0   0   0   0\n",
      "    0   0   0   0   0   0   0   0   0   0   0   0   0   0   0   0   0   0\n",
      "    0   0   0   0   0   0]\n",
      " [166 228  53  47 229   6  44 108   6 114   5  10   9  12  32   7   7   7\n",
      "    7   7   0   0   0   0   0   0   0   0   0   0   0   0   0   0   0   0\n",
      "    0   0   0   0   0   0]]\n",
      "(5668, 42)\n"
     ]
    }
   ],
   "source": [
    "# padding  把train_data里长度不一样的句子padding成一样长的，以最长的句子为标准， 不够长的在末尾补<PAD>\n",
    "data_X_in = sequence.pad_sequences(data_X, padding='post', value=word2index['PAD'], maxlen=MAX_SENTENCE_LENGTH)\n",
    "print(data_X_in[:3])\n",
    "print(data_X_in.shape)"
   ]
  },
  {
   "cell_type": "code",
   "execution_count": 80,
   "metadata": {},
   "outputs": [
    {
     "data": {
      "text/plain": [
       "1.0    0.565279\n",
       "0.0    0.434721\n",
       "dtype: float64"
      ]
     },
     "execution_count": 80,
     "metadata": {},
     "output_type": "execute_result"
    }
   ],
   "source": [
    "pd.Series(data_y).value_counts() / len(data_y)  # 数据平衡"
   ]
  },
  {
   "cell_type": "code",
   "execution_count": 81,
   "metadata": {},
   "outputs": [],
   "source": [
    "def data_generator(batch_size):\n",
    "    while True:\n",
    "        for i in range(0, len(data_X_in), batch_size):\n",
    "            if i + batch_size < len(data_X_in):\n",
    "                # [len(i) for i in data_X[i:i + batch_size]] 每个句子实际长度\n",
    "                yield data_X_in[i:i + batch_size], data_y[i:i + batch_size], [len(i) for i in data_X[i:i + batch_size]]"
   ]
  },
  {
   "cell_type": "markdown",
   "metadata": {},
   "source": [
    "## Model Part - 可参考text_classify_basic 因为任务性质差不多，都是分类"
   ]
  },
  {
   "cell_type": "code",
   "execution_count": 95,
   "metadata": {},
   "outputs": [],
   "source": [
    "batch_size = 100\n",
    "embedding_size = 16 # 就是词的embedding table 的列数， 也就是每个单词就会变成 1 * 100 的矩阵\n",
    "vocab_size = MAX_FEATURES + 2\n",
    "num_units = 16\n",
    "NUM_EPOCHS = 16\n",
    "\"\"\"\n",
    "    num_units = 16 Hyper parameter. 是隐变量c的维度. 也就是每个RNN cell 的输出维度\n",
    "    Note: \n",
    "        RNN NMT 结构中，左边endocer公用一个RNN(虽然结构图里画了3个box,其实就是一个共享权重的RNN)，同理右半边decoder网络也是。\n",
    "        但是左边 和右边 的两个RNN 并不共享网络权重参数\n",
    "\n",
    "    在text_classfify任务的的时候，老师课上解释： RNN->S1->RNN->S2...这里的16就是就是S1的大小，也就是hidden unit memory 的大小\n",
    "    16个float -> 50 * 32bit (i.e. 50 * 4字节)\n",
    "   \n",
    "    在LSTM里：相当于Ct(长期记忆)和Ht（短期记忆）都是num_unit个浮点数， 也就是memory size. 在标准的RNN里就是是S1, S2 等这些状态的memeory size. \n",
    "\n",
    "\"\"\"\n",
    "losses = []\n",
    "beginning_lr = 0.1\n",
    "gen = data_generator(batch_size)\n",
    "\n",
    "\n"
   ]
  },
  {
   "cell_type": "code",
   "execution_count": 96,
   "metadata": {},
   "outputs": [],
   "source": [
    "import tensorflow as tf\n",
    "tf.reset_default_graph()\n",
    "\"\"\"\n",
    "    allow_soft_placement=True, config.gpu_options.allow_growth = True\n",
    "    上面两句作用：可以动态分配GPU\n",
    "\"\"\"\n",
    "config = tf.ConfigProto(log_device_placement=True, allow_soft_placement=True)\n",
    "config.gpu_options.allow_growth = True\n",
    "#config.gpu_options.per_process_gpu_memory_fraction = 0.4\n",
    "session = tf.Session(config=config)"
   ]
  },
  {
   "cell_type": "code",
   "execution_count": 97,
   "metadata": {},
   "outputs": [],
   "source": [
    "tf.reset_default_graph()\n",
    "config = tf.ConfigProto(log_device_placement=True, allow_soft_placement = True)\n",
    "config.gpu_options.allow_growth = True\n",
    "#config.gpu_options.per_process_gpu_memory_fraction = 0.4\n",
    "session = tf.Session(config=config)\n",
    "\n",
    "with tf.device('/gpu:0'): # gpu:0表示gpu编号\n",
    "    # 下面几行初始化后变量和 seq2seq_basic 里类似\n",
    "    initializer = tf.random_uniform_initializer(-0.08, 0.08)\n",
    "    tf.get_variable_scope().set_initializer(initializer)\n",
    "    x = tf.placeholder(\"int32\", [None, None])\n",
    "    y = tf.placeholder(\"int32\", [None])\n",
    "    x_len = tf.placeholder(\"int32\", [None])\n",
    "    \n",
    "    learning_rate = tf.placeholder(tf.float32, shape=[])\n",
    "    \n",
    "    # embedding 和 text_classify_basic 里写法类似\n",
    "    # tf.get_variable(\"embedding_encoder\") 如果变量存在， 直接使用，如果没有该变量，就重新生成一个变量\n",
    "    embedding_encoder = tf.get_variable(\"embedding_encoder\", [vocab_size, embedding_size], dtype=tf.float32)\n",
    "    encoder_emb_inp = tf.nn.embedding_lookup(embedding_encoder, x)\n",
    "    \n",
    "    # Build RNN cell\n",
    "    encoder_cell = tf.contrib.rnn.BasicLSTMCell(num_units)\n",
    "    \n",
    "    encoder_cell = tf.contrib.rnn.DropoutWrapper(cell=encoder_cell, output_keep_prob=0.5)\n",
    "    # Run Dynamic RNN\n",
    "    #   encoder_outputs: [max_time, batch_size, num_units]\n",
    "    #   encoder_state: [batch_size, num_units]\n",
    "    encoder_outputs, encoder_state = tf.nn.dynamic_rnn(\n",
    "        encoder_cell, encoder_emb_inp,\n",
    "        sequence_length=x_len, time_major=False, dtype=tf.float32) \n",
    "        #x_len 是反应每个句子实际的长度（padding之前的），也就是data_generator返回的最后一个参数\n",
    "        # encoder_outputs 对应RNN网络右边top的每个输出\n",
    "    model_logistic = tf.layers.dense(encoder_state[0], 1)  # encoder_state[0] c 也就是长期记忆，    encoder_state[1] h\n",
    "    model_pred = tf.nn.sigmoid(model_logistic)\n",
    "    loss = tf.nn.sigmoid_cross_entropy_with_logits(labels=tf.cast(y, tf.float32), logits=tf.reshape(model_logistic,(-1,)))\n",
    "    loss = tf.reduce_mean(loss)\n",
    "    optimizer = tf.train.AdamOptimizer().minimize(loss)\n",
    "    \n",
    "session.run(tf.global_variables_initializer())"
   ]
  },
  {
   "cell_type": "markdown",
   "metadata": {},
   "source": [
    "## Training Part"
   ]
  },
  {
   "cell_type": "code",
   "execution_count": 98,
   "metadata": {
    "scrolled": true
   },
   "outputs": [
    {
     "name": "stderr",
     "output_type": "stream",
     "text": [
      "outer_epoch:   0%|          | 0/16 [00:00<?, ?it/s]\n",
      "  0%|          | 0/56 [00:00<?, ?it/s]\u001b[A\n",
      "  2%|▏         | 1/56 [00:00<00:12,  4.30it/s]\u001b[A\n",
      " 18%|█▊        | 10/56 [00:00<00:07,  6.02it/s]\u001b[A\n",
      " 34%|███▍      | 19/56 [00:00<00:04,  8.35it/s]\u001b[A\n",
      " 52%|█████▏    | 29/56 [00:00<00:02, 11.47it/s]\u001b[A\n",
      " 70%|██████▉   | 39/56 [00:00<00:01, 15.56it/s]\u001b[A\n",
      " 86%|████████▌ | 48/56 [00:00<00:00, 20.65it/s]\u001b[A\n",
      "57it [00:00, 26.81it/s]                        \u001b[A\n",
      "outer_epoch:   6%|▋         | 1/16 [00:00<00:13,  1.15it/s]\n",
      "  0%|          | 0/56 [00:00<?, ?it/s]\u001b[A\n",
      " 16%|█▌        | 9/56 [00:00<00:00, 87.44it/s]\u001b[A\n",
      " 32%|███▏      | 18/56 [00:00<00:00, 86.47it/s]\u001b[A\n",
      " 48%|████▊     | 27/56 [00:00<00:00, 86.55it/s]\u001b[A\n",
      " 64%|██████▍   | 36/56 [00:00<00:00, 86.40it/s]\u001b[A\n",
      " 80%|████████  | 45/56 [00:00<00:00, 86.88it/s]\u001b[A\n",
      " 96%|█████████▋| 54/56 [00:00<00:00, 86.50it/s]\u001b[A\n",
      "outer_epoch:  12%|█▎        | 2/16 [00:01<00:11,  1.24it/s]\n",
      "  0%|          | 0/56 [00:00<?, ?it/s]\u001b[A\n",
      " 16%|█▌        | 9/56 [00:00<00:00, 82.48it/s]\u001b[A\n",
      " 30%|███       | 17/56 [00:00<00:00, 81.04it/s]\u001b[A\n",
      " 46%|████▋     | 26/56 [00:00<00:00, 81.02it/s]\u001b[A\n",
      " 62%|██████▎   | 35/56 [00:00<00:00, 82.47it/s]\u001b[A\n",
      " 79%|███████▊  | 44/56 [00:00<00:00, 83.27it/s]\u001b[A\n",
      " 95%|█████████▍| 53/56 [00:00<00:00, 84.12it/s]\u001b[A\n",
      "outer_epoch:  19%|█▉        | 3/16 [00:02<00:10,  1.30it/s]\n",
      "  0%|          | 0/56 [00:00<?, ?it/s]\u001b[A\n",
      " 16%|█▌        | 9/56 [00:00<00:00, 88.56it/s]\u001b[A\n",
      " 32%|███▏      | 18/56 [00:00<00:00, 86.95it/s]\u001b[A\n",
      " 46%|████▋     | 26/56 [00:00<00:00, 84.09it/s]\u001b[A\n",
      " 59%|█████▉    | 33/56 [00:00<00:00, 78.37it/s]\u001b[A\n",
      " 73%|███████▎  | 41/56 [00:00<00:00, 77.60it/s]\u001b[A\n",
      " 88%|████████▊ | 49/56 [00:00<00:00, 77.47it/s]\u001b[A\n",
      "outer_epoch:  25%|██▌       | 4/16 [00:02<00:09,  1.32it/s]\n",
      "  0%|          | 0/56 [00:00<?, ?it/s]\u001b[A\n",
      " 16%|█▌        | 9/56 [00:00<00:00, 82.51it/s]\u001b[A\n",
      " 30%|███       | 17/56 [00:00<00:00, 81.33it/s]\u001b[A\n",
      " 46%|████▋     | 26/56 [00:00<00:00, 82.95it/s]\u001b[A\n",
      " 62%|██████▎   | 35/56 [00:00<00:00, 83.00it/s]\u001b[A\n",
      " 79%|███████▊  | 44/56 [00:00<00:00, 82.89it/s]\u001b[A\n",
      " 95%|█████████▍| 53/56 [00:00<00:00, 82.37it/s]\u001b[A\n",
      "outer_epoch:  31%|███▏      | 5/16 [00:03<00:08,  1.35it/s]\n",
      "  0%|          | 0/56 [00:00<?, ?it/s]\u001b[A\n",
      " 12%|█▎        | 7/56 [00:00<00:00, 62.26it/s]\u001b[A\n",
      " 29%|██▊       | 16/56 [00:00<00:00, 67.01it/s]\u001b[A\n",
      " 45%|████▍     | 25/56 [00:00<00:00, 71.30it/s]\u001b[A\n",
      " 61%|██████    | 34/56 [00:00<00:00, 75.08it/s]\u001b[A\n",
      " 75%|███████▌  | 42/56 [00:00<00:00, 75.92it/s]\u001b[A\n",
      " 91%|█████████ | 51/56 [00:00<00:00, 78.04it/s]\u001b[A\n",
      "outer_epoch:  38%|███▊      | 6/16 [00:04<00:07,  1.36it/s]\n",
      "  0%|          | 0/56 [00:00<?, ?it/s]\u001b[A\n",
      " 14%|█▍        | 8/56 [00:00<00:00, 79.89it/s]\u001b[A\n",
      " 29%|██▊       | 16/56 [00:00<00:00, 78.38it/s]\u001b[A\n",
      " 45%|████▍     | 25/56 [00:00<00:00, 79.89it/s]\u001b[A\n",
      " 61%|██████    | 34/56 [00:00<00:00, 80.80it/s]\u001b[A\n",
      " 77%|███████▋  | 43/56 [00:00<00:00, 81.97it/s]\u001b[A\n",
      " 93%|█████████▎| 52/56 [00:00<00:00, 82.57it/s]\u001b[A\n",
      "outer_epoch:  44%|████▍     | 7/16 [00:05<00:06,  1.38it/s]\n",
      "  0%|          | 0/56 [00:00<?, ?it/s]\u001b[A\n",
      " 16%|█▌        | 9/56 [00:00<00:00, 86.18it/s]\u001b[A\n",
      " 30%|███       | 17/56 [00:00<00:00, 81.22it/s]\u001b[A\n",
      " 43%|████▎     | 24/56 [00:00<00:00, 74.48it/s]\u001b[A\n",
      " 57%|█████▋    | 32/56 [00:00<00:00, 73.51it/s]\u001b[A\n",
      " 73%|███████▎  | 41/56 [00:00<00:00, 76.06it/s]\u001b[A\n",
      " 89%|████████▉ | 50/56 [00:00<00:00, 78.09it/s]\u001b[A\n",
      "outer_epoch:  50%|█████     | 8/16 [00:05<00:05,  1.37it/s]\n",
      "  0%|          | 0/56 [00:00<?, ?it/s]\u001b[A\n",
      " 16%|█▌        | 9/56 [00:00<00:00, 81.86it/s]\u001b[A\n",
      " 30%|███       | 17/56 [00:00<00:00, 81.17it/s]\u001b[A\n",
      " 45%|████▍     | 25/56 [00:00<00:00, 80.25it/s]\u001b[A\n",
      " 61%|██████    | 34/56 [00:00<00:00, 80.93it/s]\u001b[A\n",
      " 75%|███████▌  | 42/56 [00:00<00:00, 80.27it/s]\u001b[A\n",
      " 91%|█████████ | 51/56 [00:00<00:00, 80.50it/s]\u001b[A\n",
      "outer_epoch:  56%|█████▋    | 9/16 [00:06<00:05,  1.38it/s]\n",
      "  0%|          | 0/56 [00:00<?, ?it/s]\u001b[A\n",
      " 14%|█▍        | 8/56 [00:00<00:00, 79.71it/s]\u001b[A\n",
      " 29%|██▊       | 16/56 [00:00<00:00, 79.10it/s]\u001b[A\n",
      " 43%|████▎     | 24/56 [00:00<00:00, 78.90it/s]\u001b[A\n",
      " 57%|█████▋    | 32/56 [00:00<00:00, 78.94it/s]\u001b[A\n",
      " 71%|███████▏  | 40/56 [00:00<00:00, 78.71it/s]\u001b[A\n",
      " 86%|████████▌ | 48/56 [00:00<00:00, 78.34it/s]\u001b[A\n",
      "57it [00:00, 79.43it/s]                        \u001b[A\n",
      "outer_epoch:  62%|██████▎   | 10/16 [00:07<00:04,  1.38it/s]\n",
      "  0%|          | 0/56 [00:00<?, ?it/s]\u001b[A\n",
      " 14%|█▍        | 8/56 [00:00<00:00, 77.56it/s]\u001b[A\n",
      " 29%|██▊       | 16/56 [00:00<00:00, 77.39it/s]\u001b[A\n",
      " 45%|████▍     | 25/56 [00:00<00:00, 78.58it/s]\u001b[A\n",
      " 59%|█████▉    | 33/56 [00:00<00:00, 78.45it/s]\u001b[A\n",
      " 73%|███████▎  | 41/56 [00:00<00:00, 77.99it/s]\u001b[A\n",
      " 88%|████████▊ | 49/56 [00:00<00:00, 78.38it/s]\u001b[A\n",
      "outer_epoch:  69%|██████▉   | 11/16 [00:07<00:03,  1.38it/s]\n",
      "  0%|          | 0/56 [00:00<?, ?it/s]\u001b[A\n",
      " 14%|█▍        | 8/56 [00:00<00:00, 77.78it/s]\u001b[A\n",
      " 29%|██▊       | 16/56 [00:00<00:00, 77.90it/s]\u001b[A\n",
      " 45%|████▍     | 25/56 [00:00<00:00, 78.61it/s]\u001b[A\n",
      " 59%|█████▉    | 33/56 [00:00<00:00, 78.42it/s]\u001b[A\n",
      " 73%|███████▎  | 41/56 [00:00<00:00, 76.19it/s]\u001b[A\n",
      " 86%|████████▌ | 48/56 [00:00<00:00, 74.01it/s]\u001b[A\n",
      " 98%|█████████▊| 55/56 [00:00<00:00, 72.59it/s]\u001b[A\n",
      "outer_epoch:  75%|███████▌  | 12/16 [00:08<00:02,  1.35it/s]\n",
      "  0%|          | 0/56 [00:00<?, ?it/s]\u001b[A\n",
      " 12%|█▎        | 7/56 [00:00<00:00, 69.69it/s]\u001b[A\n",
      " 27%|██▋       | 15/56 [00:00<00:00, 71.46it/s]\u001b[A\n",
      " 43%|████▎     | 24/56 [00:00<00:00, 74.64it/s]\u001b[A\n",
      " 57%|█████▋    | 32/56 [00:00<00:00, 75.86it/s]\u001b[A\n",
      " 71%|███████▏  | 40/56 [00:00<00:00, 76.72it/s]\u001b[A\n",
      " 86%|████████▌ | 48/56 [00:00<00:00, 77.17it/s]\u001b[A\n",
      "100%|██████████| 56/56 [00:00<00:00, 76.43it/s]\u001b[A\n",
      "outer_epoch:  81%|████████▏ | 13/16 [00:09<00:02,  1.35it/s]\n",
      "  0%|          | 0/56 [00:00<?, ?it/s]\u001b[A\n",
      " 14%|█▍        | 8/56 [00:00<00:00, 73.02it/s]\u001b[A\n",
      " 29%|██▊       | 16/56 [00:00<00:00, 74.18it/s]\u001b[A\n",
      " 43%|████▎     | 24/56 [00:00<00:00, 75.31it/s]\u001b[A\n",
      " 57%|█████▋    | 32/56 [00:00<00:00, 76.28it/s]\u001b[A\n",
      " 71%|███████▏  | 40/56 [00:00<00:00, 76.97it/s]\u001b[A\n",
      " 86%|████████▌ | 48/56 [00:00<00:00, 77.09it/s]\u001b[A\n",
      "100%|██████████| 56/56 [00:00<00:00, 76.51it/s]\u001b[A\n",
      "outer_epoch:  88%|████████▊ | 14/16 [00:10<00:01,  1.35it/s]\n",
      "  0%|          | 0/56 [00:00<?, ?it/s]\u001b[A\n",
      " 14%|█▍        | 8/56 [00:00<00:00, 73.89it/s]\u001b[A\n",
      " 29%|██▊       | 16/56 [00:00<00:00, 72.98it/s]\u001b[A\n",
      " 41%|████      | 23/56 [00:00<00:00, 71.38it/s]\u001b[A\n",
      " 55%|█████▌    | 31/56 [00:00<00:00, 72.35it/s]\u001b[A\n",
      " 70%|██████▉   | 39/56 [00:00<00:00, 73.32it/s]\u001b[A\n",
      " 84%|████████▍ | 47/56 [00:00<00:00, 73.89it/s]\u001b[A\n",
      " 96%|█████████▋| 54/56 [00:00<00:00, 70.96it/s]\u001b[A\n",
      "outer_epoch:  94%|█████████▍| 15/16 [00:11<00:00,  1.32it/s]\n",
      "  0%|          | 0/56 [00:00<?, ?it/s]\u001b[A\n",
      " 14%|█▍        | 8/56 [00:00<00:00, 79.13it/s]\u001b[A\n",
      " 30%|███       | 17/56 [00:00<00:00, 79.64it/s]\u001b[A\n",
      " 45%|████▍     | 25/56 [00:00<00:00, 77.86it/s]\u001b[A\n",
      " 57%|█████▋    | 32/56 [00:00<00:00, 74.83it/s]\u001b[A\n",
      " 73%|███████▎  | 41/56 [00:00<00:00, 76.57it/s]\u001b[A\n",
      " 88%|████████▊ | 49/56 [00:00<00:00, 76.36it/s]\u001b[A\n",
      "57it [00:00, 76.70it/s]                        \u001b[A\n",
      "outer_epoch: 100%|██████████| 16/16 [00:11<00:00,  1.33it/s]\n"
     ]
    }
   ],
   "source": [
    "for one_epoch in tqdm.trange(0, NUM_EPOCHS, desc='outer_epoch'):\n",
    "    for one_batch in tqdm.tqdm(range(0, len(data_X_in) ,batch_size), total=len(data_X_in) // batch_size):\n",
    "        batch_x, batch_y, batch_x_len = gen.__next__() # batch_x_len batch里 每个句子长度\n",
    "        batch_lr = beginning_lr \n",
    "        \n",
    "        _, batch_loss = session.run([optimizer, loss], feed_dict={\n",
    "            x: batch_x,\n",
    "            y: batch_y,\n",
    "            x_len: batch_x_len,\n",
    "            learning_rate: batch_lr,\n",
    "        })\n",
    "        losses.append(batch_loss)"
   ]
  },
  {
   "cell_type": "code",
   "execution_count": 99,
   "metadata": {
    "scrolled": false
   },
   "outputs": [
    {
     "data": {
      "text/plain": [
       "<matplotlib.axes._subplots.AxesSubplot at 0x1c310c2978>"
      ]
     },
     "execution_count": 99,
     "metadata": {},
     "output_type": "execute_result"
    },
    {
     "data": {
      "image/png": "[encoded data removed]",
      "text/plain": [
       "<Figure size 432x288 with 1 Axes>"
      ]
     },
     "metadata": {
      "needs_background": "light"
     },
     "output_type": "display_data"
    }
   ],
   "source": [
    "pd.DataFrame(losses).plot()"
   ]
  },
  {
   "cell_type": "markdown",
   "metadata": {},
   "source": [
    "## run predict "
   ]
  },
  {
   "cell_type": "code",
   "execution_count": 100,
   "metadata": {},
   "outputs": [
    {
     "name": "stdout",
     "output_type": "stream",
     "text": [
      "1418\n"
     ]
    }
   ],
   "source": [
    "test_recs = len(test_data)\n",
    "print(test_recs)"
   ]
  },
  {
   "cell_type": "code",
   "execution_count": 101,
   "metadata": {},
   "outputs": [],
   "source": [
    "test_X = []\n",
    "\n",
    "for index, row in test_data.iterrows():\n",
    "    words = nltk.word_tokenize(row['sentence'].lower()) # 每一行的 sentence column 里的句子分割成词\n",
    "    senttoken = [word2index.get(word, word2index['UNK']) for word in words]\n",
    "    test_X.append(senttoken)\n",
    "\n",
    "# test_X = sequence.pad_sequences(test_X, padding='post', value=word2index['PAD'], maxlen=MAX_SENTENCE_LENGTH)"
   ]
  },
  {
   "cell_type": "code",
   "execution_count": 106,
   "metadata": {},
   "outputs": [
    {
     "data": {
      "text/plain": [
       "[[2, 122, 5, 115, 36, 20, 21, 4], [2, 16, 8, 50]]"
      ]
     },
     "execution_count": 106,
     "metadata": {},
     "output_type": "execute_result"
    }
   ],
   "source": [
    "test_X[:2]"
   ]
  },
  {
   "cell_type": "code",
   "execution_count": 112,
   "metadata": {},
   "outputs": [],
   "source": [
    "def predict_result(senttoken):\n",
    "    inputx = np.asarray([senttoken])\n",
    "    inputx_len = np.asarray([len(senttoken)])\n",
    "    return session.run(model_pred, feed_dict={\n",
    "            x:inputx,\n",
    "            x_len:inputx_len,\n",
    "        })[0]\n",
    "\n",
    "logits = []\n",
    "for row in test_X:\n",
    "    logits.append(predict_result(row))\n",
    "    \n",
    "logits = pd.Series(logits)"
   ]
  },
  {
   "cell_type": "code",
   "execution_count": 113,
   "metadata": {},
   "outputs": [
    {
     "data": {
      "text/plain": [
       "0        [0.9999784]\n",
       "1       [0.99853027]\n",
       "2    [1.6598815e-05]\n",
       "dtype: object"
      ]
     },
     "execution_count": 113,
     "metadata": {},
     "output_type": "execute_result"
    }
   ],
   "source": [
    "logits[:3]"
   ]
  },
  {
   "cell_type": "code",
   "execution_count": 114,
   "metadata": {},
   "outputs": [],
   "source": [
    "# n_percent = (pd.Series(data_y).value_counts() / len(data_y))[0]\n",
    "# n_num = int(n_percent * len(logits))\n",
    "# logits[logits.sort_values().index[:n_num]] = 0\n",
    "# logits[logits.sort_values().index[n_num:]] = 1\n",
    "\n",
    "logits = (logits > 0.5).astype('int')"
   ]
  },
  {
   "cell_type": "code",
   "execution_count": 115,
   "metadata": {},
   "outputs": [
    {
     "data": {
      "text/plain": [
       "0    1\n",
       "1    1\n",
       "2    0\n",
       "dtype: int64"
      ]
     },
     "execution_count": 115,
     "metadata": {},
     "output_type": "execute_result"
    }
   ],
   "source": [
    "logits[:3]"
   ]
  },
  {
   "cell_type": "code",
   "execution_count": 118,
   "metadata": {},
   "outputs": [
    {
     "name": "stdout",
     "output_type": "stream",
     "text": [
      "(1418, 2)\n"
     ]
    }
   ],
   "source": [
    "COLUMN_NAMES = ['sentence', 'label']\n",
    "df = pd.DataFrame(columns=COLUMN_NAMES)\n",
    "\n",
    "df['sentence'] = test_data['sentence']\n",
    "ll = pd.Series(logits)\n",
    "df['label'] = ll.values\n",
    "print(df.shape)"
   ]
  },
  {
   "cell_type": "code",
   "execution_count": 119,
   "metadata": {},
   "outputs": [
    {
     "name": "stdout",
     "output_type": "stream",
     "text": [
      "                                            sentence  label\n",
      "0            I liked the first \" Mission Impossible.      1\n",
      "1                              I love Harry Potter..      1\n",
      "2  Not because I hate Harry Potter, but because I...      0\n",
      "3  the story of Harry Potter is a deep and profou...      1\n",
      "4  The complaints I've seen about the \" Vito-bein...      0\n"
     ]
    }
   ],
   "source": [
    "print(df.head())"
   ]
  },
  {
   "cell_type": "code",
   "execution_count": 122,
   "metadata": {},
   "outputs": [],
   "source": [
    "df.to_csv(os.path.join(DATA_DIR, \"submission.csv\"), index=False)"
   ]
  },
  {
   "cell_type": "code",
   "execution_count": 124,
   "metadata": {},
   "outputs": [
    {
     "name": "stdout",
     "output_type": "stream",
     "text": [
      "                                            sentence  label\n",
      "0            I liked the first \" Mission Impossible.      1\n",
      "1                              I love Harry Potter..      1\n",
      "2  Not because I hate Harry Potter, but because I...      0\n",
      "3  the story of Harry Potter is a deep and profou...      1\n",
      "4  The complaints I've seen about the \" Vito-bein...      0\n"
     ]
    }
   ],
   "source": [
    "y_test = pd.read_csv(os.path.join(DATA_DIR, \"submission.csv\")) # 正确答案\n",
    "print(y_test.head())"
   ]
  },
  {
   "cell_type": "code",
   "execution_count": null,
   "metadata": {},
   "outputs": [],
   "source": []
  }
 ],
 "metadata": {
  "kernelspec": {
   "display_name": "Python 3",
   "language": "python",
   "name": "python3"
  },
  "language_info": {
   "codemirror_mode": {
    "name": "ipython",
    "version": 3
   },
   "file_extension": ".py",
   "mimetype": "text/x-python",
   "name": "python",
   "nbconvert_exporter": "python",
   "pygments_lexer": "ipython3",
   "version": "3.6.6"
  }
 },
 "nbformat": 4,
 "nbformat_minor": 2
}
